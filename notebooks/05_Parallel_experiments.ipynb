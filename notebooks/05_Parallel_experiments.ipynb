{
 "cells": [
  {
   "cell_type": "markdown",
   "metadata": {},
   "source": [
    "## ExMAS\n",
    "> Exact Matching of Attractive Shared rides (ExMAS) for system-wide strategic evaluations\n",
    "> \n",
    "> Kucharski R., Cats O. ,_Transportation Research Part: B_, 2020\n",
    "\n",
    "---\n",
    "#### Parallel experiments\n",
    "\n",
    "Explore the search space of hyperparameters with parallel multiple runs of ExMAS\n",
    "\n",
    "Merge the results into single DataFrame and visualize"
   ]
  },
  {
   "cell_type": "code",
   "execution_count": 1,
   "metadata": {},
   "outputs": [],
   "source": [
    "import os\n",
    "cwd = os.getcwd()"
   ]
  },
  {
   "cell_type": "code",
   "execution_count": 2,
   "metadata": {},
   "outputs": [],
   "source": [
    "os.chdir(os.path.join(cwd,'..'))\n",
    "import ExMAS\n",
    "import ExMAS_utils"
   ]
  },
  {
   "cell_type": "code",
   "execution_count": 3,
   "metadata": {},
   "outputs": [],
   "source": [
    "from ExMAS_utils import inData as inData"
   ]
  },
  {
   "cell_type": "code",
   "execution_count": 4,
   "metadata": {},
   "outputs": [],
   "source": [
    "from experiments import experiment\n",
    "from dotmap import DotMap"
   ]
  },
  {
   "cell_type": "markdown",
   "metadata": {},
   "source": [
    "### create the search space"
   ]
  },
  {
   "cell_type": "code",
   "execution_count": 5,
   "metadata": {},
   "outputs": [],
   "source": [
    "def my_search_space():\n",
    "    # sspace to explore\n",
    "    full_space = DotMap()\n",
    "    full_space.nP = [100, 200, 300, 400]\n",
    "    full_space.shared_discount = [0.2, 0.25, 0.3]\n",
    "    full_space.horizon = [60, 300,  1200, -1]\n",
    "    return full_space"
   ]
  },
  {
   "cell_type": "markdown",
   "metadata": {},
   "source": [
    "### run"
   ]
  },
  {
   "cell_type": "code",
   "execution_count": 6,
   "metadata": {},
   "outputs": [
    {
     "name": "stdout",
     "output_type": "stream",
     "text": [
      "Help on function experiment in module experiments:\n",
      "\n",
      "experiment(space=None, config='data/configs/default.json', workers=-1, replications=1)\n",
      "    Explores the search space `space` starting from base configuration from `config` using `workers` parallel threads`\n",
      "    :param space:\n",
      "    :param config:\n",
      "    :param workers:\n",
      "    :param replications:\n",
      "    :return: set of csvs in 'data/results`\n",
      "\n"
     ]
    }
   ],
   "source": [
    "help(experiment)"
   ]
  },
  {
   "cell_type": "code",
   "execution_count": 7,
   "metadata": {},
   "outputs": [
    {
     "name": "stdout",
     "output_type": "stream",
     "text": [
      "Search space to explore of dimensions [4, 3, 4] and total size of 48\n",
      "city_Delft_Netherlands_nP_100_shareddiscount_02_horizon_60_dt_0_days_000000694119_searchspace_214 2020-07-03 13:11:40.877929 done\n",
      "city_Delft_Netherlands_nP_100_shareddiscount_02_horizon_1_dt_0_days_000001486004_searchspace_301 2020-07-03 13:11:41.823641 done\n",
      "city_Delft_Netherlands_nP_100_shareddiscount_02_horizon_300_dt_0_days_000001198490_searchspace_278 2020-07-03 13:11:42.266246 done\n",
      "city_Delft_Netherlands_nP_100_shareddiscount_025_horizon_60_dt_0_days_000000656266_searchspace_237 2020-07-03 13:11:42.674325 done\n",
      "city_Delft_Netherlands_nP_100_shareddiscount_025_horizon_1200_dt_0_days_000002225226_searchspace_484 2020-07-03 13:11:42.730787 done\n",
      "city_Delft_Netherlands_nP_100_shareddiscount_03_horizon_300_dt_0_days_000002470013_searchspace_578 2020-07-03 13:11:43.118183 done\n",
      "city_Delft_Netherlands_nP_100_shareddiscount_02_horizon_1200_dt_0_days_000001519666_searchspace_292 2020-07-03 13:11:43.933669 done\n",
      "city_Delft_Netherlands_nP_100_shareddiscount_025_horizon_300_dt_0_days_000001550729_searchspace_330 2020-07-03 13:11:44.397136 done\n",
      "city_Delft_Netherlands_nP_200_shareddiscount_02_horizon_60_dt_0_days_000000621784_searchspace_213 2020-07-03 13:11:44.904783 done\n",
      "city_Delft_Netherlands_nP_100_shareddiscount_025_horizon_1_dt_0_days_000002328835_searchspace_485 2020-07-03 13:11:45.224214 done\n",
      "city_Delft_Netherlands_nP_200_shareddiscount_02_horizon_300_dt_0_days_000001184267_searchspace_253 2020-07-03 13:11:46.255881 done\n",
      "city_Delft_Netherlands_nP_200_shareddiscount_02_horizon_1_dt_0_days_000001608123_searchspace_320 2020-07-03 13:11:46.380401 done\n",
      "city_Delft_Netherlands_nP_100_shareddiscount_03_horizon_60_dt_0_days_000001135428_searchspace_255 2020-07-03 13:11:46.551774 done\n",
      "city_Delft_Netherlands_nP_200_shareddiscount_025_horizon_60_dt_0_days_000000693850_searchspace_232 2020-07-03 13:11:47.304753 done\n",
      "city_Delft_Netherlands_nP_200_shareddiscount_02_horizon_1200_dt_0_days_000001449623_searchspace_306 2020-07-03 13:11:47.934726 done\n",
      "city_Delft_Netherlands_nP_100_shareddiscount_03_horizon_1200_dt_0_days_000005209431_searchspace_1081 2020-07-03 13:11:48.582459 done\n",
      "city_Delft_Netherlands_nP_200_shareddiscount_025_horizon_1200_dt_0_days_000002190699_searchspace_447 2020-07-03 13:11:49.126436 done\n",
      "city_Delft_Netherlands_nP_200_shareddiscount_025_horizon_300_dt_0_days_000001798436_searchspace_416 2020-07-03 13:11:49.266809 done\n",
      "city_Delft_Netherlands_nP_300_shareddiscount_02_horizon_60_dt_0_days_000000789995_searchspace_209 2020-07-03 13:11:50.430744 done\n",
      "city_Delft_Netherlands_nP_200_shareddiscount_03_horizon_300_dt_0_days_000002637814_searchspace_623 2020-07-03 13:11:51.023209 done\n",
      "city_Delft_Netherlands_nP_300_shareddiscount_02_horizon_300_dt_0_days_000001591834_searchspace_249 2020-07-03 13:11:52.211740 done\n",
      "city_Delft_Netherlands_nP_200_shareddiscount_025_horizon_1_dt_0_days_000003839203_searchspace_646 2020-07-03 13:11:53.199990 done\n",
      "city_Delft_Netherlands_nP_100_shareddiscount_03_horizon_1_dt_0_days_000005372139_searchspace_967 2020-07-03 13:11:54.118834 done\n",
      "city_Delft_Netherlands_nP_300_shareddiscount_02_horizon_1200_dt_0_days_000001944052_searchspace_287 2020-07-03 13:11:54.462824 done\n",
      "city_Delft_Netherlands_nP_200_shareddiscount_03_horizon_60_dt_0_days_000001281675_searchspace_273 2020-07-03 13:11:54.818483 done\n",
      "city_Delft_Netherlands_nP_300_shareddiscount_02_horizon_1_dt_0_days_000001505431_searchspace_297 2020-07-03 13:11:56.182537 done\n",
      "city_Delft_Netherlands_nP_200_shareddiscount_03_horizon_1200_dt_0_days_000005336531_searchspace_921 2020-07-03 13:11:56.774169 done\n",
      "city_Delft_Netherlands_nP_300_shareddiscount_025_horizon_60_dt_0_days_000000806981_searchspace_240 2020-07-03 13:11:57.159155 done\n",
      "city_Delft_Netherlands_nP_300_shareddiscount_025_horizon_1200_dt_0_days_000002292563_searchspace_440 2020-07-03 13:11:57.180063 done\n",
      "city_Delft_Netherlands_nP_300_shareddiscount_03_horizon_300_dt_0_days_000002362648_searchspace_547 2020-07-03 13:11:57.529034 done\n",
      "city_Delft_Netherlands_nP_300_shareddiscount_025_horizon_300_dt_0_days_000001578956_searchspace_390 2020-07-03 13:11:58.948270 done\n",
      "city_Delft_Netherlands_nP_300_shareddiscount_025_horizon_1_dt_0_days_000002194021_searchspace_436 2020-07-03 13:11:59.612980 done\n",
      "city_Delft_Netherlands_nP_400_shareddiscount_02_horizon_60_dt_0_days_000000641090_searchspace_209 2020-07-03 13:11:59.956121 done\n",
      "city_Delft_Netherlands_nP_300_shareddiscount_03_horizon_60_dt_0_days_000000904987_searchspace_275 2020-07-03 13:12:00.723652 done\n",
      "city_Delft_Netherlands_nP_200_shareddiscount_03_horizon_1_dt_0_days_000003831216_searchspace_837 2020-07-03 13:12:00.928774 done\n",
      "city_Delft_Netherlands_nP_400_shareddiscount_02_horizon_300_dt_0_days_000001161595_searchspace_243 2020-07-03 13:12:01.319731 done\n",
      "city_Delft_Netherlands_nP_300_shareddiscount_03_horizon_1200_dt_0_days_000004078646_searchspace_833 2020-07-03 13:12:01.829254 done\n",
      "city_Delft_Netherlands_nP_400_shareddiscount_02_horizon_1_dt_0_days_000001384967_searchspace_271 2020-07-03 13:12:02.515847 done\n",
      "city_Delft_Netherlands_nP_400_shareddiscount_02_horizon_1200_dt_0_days_000001501988_searchspace_283 2020-07-03 13:12:03.016178 done\n",
      "city_Delft_Netherlands_nP_400_shareddiscount_025_horizon_60_dt_0_days_000000980952_searchspace_231 2020-07-03 13:12:03.689787 done\n",
      "city_Delft_Netherlands_nP_400_shareddiscount_025_horizon_1200_dt_0_days_000002587456_searchspace_511 2020-07-03 13:12:03.971488 done\n",
      "city_Delft_Netherlands_nP_400_shareddiscount_025_horizon_300_dt_0_days_000001485138_searchspace_366 2020-07-03 13:12:05.351767 done\n",
      "city_Delft_Netherlands_nP_400_shareddiscount_03_horizon_300_dt_0_days_000002250454_searchspace_535 2020-07-03 13:12:05.745965 done\n",
      "city_Delft_Netherlands_nP_400_shareddiscount_025_horizon_1_dt_0_days_000002262000_searchspace_482 2020-07-03 13:12:06.466396 done\n",
      "city_Delft_Netherlands_nP_300_shareddiscount_03_horizon_1_dt_0_days_000004528643_searchspace_977 2020-07-03 13:12:06.540242 done\n",
      "city_Delft_Netherlands_nP_400_shareddiscount_03_horizon_60_dt_0_days_000000696932_searchspace_255 2020-07-03 13:12:07.361387 done\n",
      "city_Delft_Netherlands_nP_400_shareddiscount_03_horizon_1200_dt_0_days_000003275173_searchspace_822 2020-07-03 13:12:09.305379 done\n",
      "city_Delft_Netherlands_nP_400_shareddiscount_03_horizon_1_dt_0_days_000004607698_searchspace_1050 2020-07-03 13:12:14.100520 done\n"
     ]
    }
   ],
   "source": [
    "experiment(space=my_search_space(), config = 'data/configs/default.json', workers = 4) # explores the search space"
   ]
  },
  {
   "cell_type": "markdown",
   "metadata": {},
   "source": [
    "### process the results:"
   ]
  },
  {
   "cell_type": "code",
   "execution_count": 8,
   "metadata": {},
   "outputs": [],
   "source": [
    "results = ExMAS_utils.merge_csvs(None, 'data/results', to_numeric = True)"
   ]
  },
  {
   "cell_type": "code",
   "execution_count": 9,
   "metadata": {},
   "outputs": [],
   "source": [
    "results = ExMAS_utils.make_KPIs(results, params = ExMAS_utils.get_config('data/configs/default.json'))"
   ]
  },
  {
   "cell_type": "code",
   "execution_count": 10,
   "metadata": {},
   "outputs": [],
   "source": [
    "import matplotlib.pyplot as plt\n",
    "plt.rcParams['figure.figsize'] = [4, 4]\n",
    "plt.rcParams[\"font.family\"] = \"Helvetica\"\n",
    "plt.style.use('ggplot')"
   ]
  },
  {
   "cell_type": "code",
   "execution_count": 11,
   "metadata": {},
   "outputs": [
    {
     "data": {
      "image/png": "[encoded data removed]",
      "text/plain": [
       "<Figure size 288x288 with 1 Axes>"
      ]
     },
     "metadata": {},
     "output_type": "display_data"
    }
   ],
   "source": [
    "tp = results[(results.horizon == -1) \n",
    "       & (results.shared_discount == 0.3)\n",
    "       & (results.nP >0)]\n",
    "_ = ExMAS_utils.plot_paper_multi(tp, x = '$Q$', \n",
    "                 ys = ['$\\Delta T_r$', '$\\Delta T_q$', '$\\Delta U_r$'], figname = '1_1.svg', y_label = 'rel. diff.', path = '')"
   ]
  },
  {
   "cell_type": "code",
   "execution_count": 12,
   "metadata": {},
   "outputs": [
    {
     "data": {
      "image/png": "[encoded data removed]",
      "text/plain": [
       "<Figure size 288x288 with 1 Axes>"
      ]
     },
     "metadata": {},
     "output_type": "display_data"
    }
   ],
   "source": [
    "tp = results[(results.horizon == -1) \n",
    "       & (results.nP ==300)]\n",
    "_ = ExMAS_utils.plot_paper_multi(tp, x = '$\\lambda$', \n",
    "                 ys = ['$\\Delta T_r$', '$\\Delta T_q$', '$\\Delta U_r$'], figname = '1_1.svg', y_label = 'rel. diff.', path = '')"
   ]
  },
  {
   "cell_type": "code",
   "execution_count": 13,
   "metadata": {},
   "outputs": [
    {
     "data": {
      "image/png": "[encoded data removed]",
      "text/plain": [
       "<Figure size 288x288 with 1 Axes>"
      ]
     },
     "metadata": {},
     "output_type": "display_data"
    }
   ],
   "source": [
    "tp = results[(results.shared_discount == 0.3)\n",
    "       & (results.nP ==300)]\n",
    "_ = ExMAS_utils.plot_paper_multi(tp, x = '$T$', \n",
    "                 ys = ['$\\Delta T_r$', '$\\Delta T_q$', '$\\Delta U_r$'], figname = '1_1.svg', y_label = 'rel. diff.', path = '')"
   ]
  },
  {
   "cell_type": "markdown",
   "metadata": {},
   "source": [
    "---\n",
    "(c) Rafał Kucharski, Delft, 2020"
   ]
  }
 ],
 "metadata": {
  "kernelspec": {
   "display_name": "Python 3",
   "language": "python",
   "name": "python3"
  },
  "language_info": {
   "codemirror_mode": {
    "name": "ipython",
    "version": 3
   },
   "file_extension": ".py",
   "mimetype": "text/x-python",
   "name": "python",
   "nbconvert_exporter": "python",
   "pygments_lexer": "ipython3",
   "version": "3.7.6"
  }
 },
 "nbformat": 4,
 "nbformat_minor": 4
}
