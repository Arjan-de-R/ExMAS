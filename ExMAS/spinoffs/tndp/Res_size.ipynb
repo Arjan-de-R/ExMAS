{
 "cells": [
  {
   "cell_type": "code",
   "execution_count": 1,
   "metadata": {},
   "outputs": [],
   "source": [
    "import os\n",
    "import pandas as pd"
   ]
  },
  {
   "cell_type": "code",
   "execution_count": 2,
   "metadata": {},
   "outputs": [],
   "source": [
    "from numpy.random import normal"
   ]
  },
  {
   "cell_type": "code",
   "execution_count": 64,
   "metadata": {},
   "outputs": [],
   "source": [
    "plt.style.use(['science'])\n",
    "os.environ[\"PATH\"] += os.pathsep + '/Library/TeX/texbin'"
   ]
  },
  {
   "cell_type": "code",
   "execution_count": 3,
   "metadata": {},
   "outputs": [],
   "source": [
    "%load_ext autoreload\n",
    "%autoreload 2"
   ]
  },
  {
   "cell_type": "code",
   "execution_count": 4,
   "metadata": {},
   "outputs": [],
   "source": [
    "os.chdir(os.path.join(os.getcwd(),'../../..'))\n",
    "import ExMAS.main\n",
    "import ExMAS.utils\n",
    "from ExMAS.transitize import *"
   ]
  },
  {
   "cell_type": "code",
   "execution_count": 5,
   "metadata": {},
   "outputs": [],
   "source": [
    "from ExMAS.transitize.main import stick_private_to_ms"
   ]
  },
  {
   "cell_type": "code",
   "execution_count": 6,
   "metadata": {},
   "outputs": [],
   "source": [
    "import json\n",
    "from ExMAS.utils import *"
   ]
  },
  {
   "cell_type": "code",
   "execution_count": 7,
   "metadata": {},
   "outputs": [],
   "source": [
    "from ExMAS.transitize import visualizations\n",
    "from ExMAS.transitize import analysis"
   ]
  },
  {
   "cell_type": "code",
   "execution_count": 8,
   "metadata": {},
   "outputs": [],
   "source": [
    "params = ExMAS.utils.get_config('ExMAS/data/configs/transit.json')  # load the default"
   ]
  },
  {
   "cell_type": "code",
   "execution_count": 61,
   "metadata": {},
   "outputs": [
    {
     "data": {
      "text/html": [
       "<div>\n",
       "<style scoped>\n",
       "    .dataframe tbody tr th:only-of-type {\n",
       "        vertical-align: middle;\n",
       "    }\n",
       "\n",
       "    .dataframe tbody tr th {\n",
       "        vertical-align: top;\n",
       "    }\n",
       "\n",
       "    .dataframe thead th {\n",
       "        text-align: right;\n",
       "    }\n",
       "</style>\n",
       "<table border=\"1\" class=\"dataframe\">\n",
       "  <thead>\n",
       "    <tr style=\"text-align: right;\">\n",
       "      <th></th>\n",
       "      <th>0</th>\n",
       "      <th>1</th>\n",
       "      <th>2</th>\n",
       "      <th>3</th>\n",
       "      <th>size</th>\n",
       "    </tr>\n",
       "  </thead>\n",
       "  <tbody>\n",
       "    <tr>\n",
       "      <th>d2d</th>\n",
       "      <td>NaN</td>\n",
       "      <td>895.000000</td>\n",
       "      <td>837.000000</td>\n",
       "      <td>792.000000</td>\n",
       "      <td>1300</td>\n",
       "    </tr>\n",
       "    <tr>\n",
       "      <th>dest_walk_time</th>\n",
       "      <td>0.000000</td>\n",
       "      <td>0.000000</td>\n",
       "      <td>10672.000000</td>\n",
       "      <td>20534.000000</td>\n",
       "      <td>1300</td>\n",
       "    </tr>\n",
       "    <tr>\n",
       "      <th>fare</th>\n",
       "      <td>6802.027500</td>\n",
       "      <td>5228.905853</td>\n",
       "      <td>5088.899947</td>\n",
       "      <td>4835.583242</td>\n",
       "      <td>1300</td>\n",
       "    </tr>\n",
       "    <tr>\n",
       "      <th>ms</th>\n",
       "      <td>NaN</td>\n",
       "      <td>NaN</td>\n",
       "      <td>NaN</td>\n",
       "      <td>90.000000</td>\n",
       "      <td>1300</td>\n",
       "    </tr>\n",
       "    <tr>\n",
       "      <th>nRides</th>\n",
       "      <td>1300.000000</td>\n",
       "      <td>30129.000000</td>\n",
       "      <td>30401.000000</td>\n",
       "      <td>62707.000000</td>\n",
       "      <td>1300</td>\n",
       "    </tr>\n",
       "    <tr>\n",
       "      <th>orig_walk_time</th>\n",
       "      <td>0.000000</td>\n",
       "      <td>0.000000</td>\n",
       "      <td>11565.000000</td>\n",
       "      <td>23372.000000</td>\n",
       "      <td>1300</td>\n",
       "    </tr>\n",
       "    <tr>\n",
       "      <th>p</th>\n",
       "      <td>1300.000000</td>\n",
       "      <td>405.000000</td>\n",
       "      <td>406.000000</td>\n",
       "      <td>400.000000</td>\n",
       "      <td>1300</td>\n",
       "    </tr>\n",
       "    <tr>\n",
       "      <th>s2s</th>\n",
       "      <td>NaN</td>\n",
       "      <td>NaN</td>\n",
       "      <td>57.000000</td>\n",
       "      <td>18.000000</td>\n",
       "      <td>1300</td>\n",
       "    </tr>\n",
       "    <tr>\n",
       "      <th>test</th>\n",
       "      <td>1.000000</td>\n",
       "      <td>1.000000</td>\n",
       "      <td>1.000000</td>\n",
       "      <td>1.000000</td>\n",
       "      <td>1300</td>\n",
       "    </tr>\n",
       "    <tr>\n",
       "      <th>ttrav</th>\n",
       "      <td>566281.000000</td>\n",
       "      <td>734681.000000</td>\n",
       "      <td>713030.750000</td>\n",
       "      <td>645816.250000</td>\n",
       "      <td>1300</td>\n",
       "    </tr>\n",
       "    <tr>\n",
       "      <th>u_pax</th>\n",
       "      <td>8796.659986</td>\n",
       "      <td>8422.305622</td>\n",
       "      <td>8360.248532</td>\n",
       "      <td>7920.789594</td>\n",
       "      <td>1300</td>\n",
       "    </tr>\n",
       "    <tr>\n",
       "      <th>u_veh</th>\n",
       "      <td>566281.000000</td>\n",
       "      <td>369617.000000</td>\n",
       "      <td>366526.750000</td>\n",
       "      <td>361057.375000</td>\n",
       "      <td>1300</td>\n",
       "    </tr>\n",
       "    <tr>\n",
       "      <th>efficiency</th>\n",
       "      <td>43.242311</td>\n",
       "      <td>50.928559</td>\n",
       "      <td>49.982818</td>\n",
       "      <td>48.214220</td>\n",
       "      <td>1300</td>\n",
       "    </tr>\n",
       "    <tr>\n",
       "      <th>occupancy</th>\n",
       "      <td>1.000000</td>\n",
       "      <td>1.532075</td>\n",
       "      <td>1.544992</td>\n",
       "      <td>1.568396</td>\n",
       "      <td>1300</td>\n",
       "    </tr>\n",
       "  </tbody>\n",
       "</table>\n",
       "</div>"
      ],
      "text/plain": [
       "                            0              1              2              3  \\\n",
       "d2d                       NaN     895.000000     837.000000     792.000000   \n",
       "dest_walk_time       0.000000       0.000000   10672.000000   20534.000000   \n",
       "fare              6802.027500    5228.905853    5088.899947    4835.583242   \n",
       "ms                        NaN            NaN            NaN      90.000000   \n",
       "nRides            1300.000000   30129.000000   30401.000000   62707.000000   \n",
       "orig_walk_time       0.000000       0.000000   11565.000000   23372.000000   \n",
       "p                 1300.000000     405.000000     406.000000     400.000000   \n",
       "s2s                       NaN            NaN      57.000000      18.000000   \n",
       "test                 1.000000       1.000000       1.000000       1.000000   \n",
       "ttrav           566281.000000  734681.000000  713030.750000  645816.250000   \n",
       "u_pax             8796.659986    8422.305622    8360.248532    7920.789594   \n",
       "u_veh           566281.000000  369617.000000  366526.750000  361057.375000   \n",
       "efficiency          43.242311      50.928559      49.982818      48.214220   \n",
       "occupancy            1.000000       1.532075       1.544992       1.568396   \n",
       "\n",
       "                size  \n",
       "d2d             1300  \n",
       "dest_walk_time  1300  \n",
       "fare            1300  \n",
       "ms              1300  \n",
       "nRides          1300  \n",
       "orig_walk_time  1300  \n",
       "p               1300  \n",
       "s2s             1300  \n",
       "test            1300  \n",
       "ttrav           1300  \n",
       "u_pax           1300  \n",
       "u_veh           1300  \n",
       "efficiency      1300  \n",
       "occupancy       1300  "
      ]
     },
     "execution_count": 61,
     "metadata": {},
     "output_type": "execute_result"
    }
   ],
   "source": [
    "reports[1300]"
   ]
  },
  {
   "cell_type": "code",
   "execution_count": 9,
   "metadata": {},
   "outputs": [
    {
     "name": "stdout",
     "output_type": "stream",
     "text": [
      "300\n",
      "400\n",
      "500\n",
      "600\n",
      "700\n",
      "800\n",
      "900\n",
      "1000\n",
      "1100\n",
      "1200\n",
      "1300\n",
      "1400\n"
     ]
    }
   ],
   "source": [
    "reports = dict()\n",
    "for size in [300,400,500,600, 700, 800, 900, 1000, 1100, 1200, 1300, 1400]:\n",
    "    print(size)\n",
    "    inData = analysis.load_results(PATH ='transit_results', EXP_NAME = 'size_{}'.format(size))\n",
    "    inData = analysis.make_report(inData)\n",
    "    inData.transitize.report['size']=size\n",
    "    reports[size] = inData.transitize.report.copy()\n",
    "    "
   ]
  },
  {
   "cell_type": "code",
   "execution_count": 78,
   "metadata": {},
   "outputs": [
    {
     "data": {
      "image/png": "[encoded data removed]",
      "text/plain": [
       "<Figure size 720x360 with 1 Axes>"
      ]
     },
     "metadata": {
      "needs_background": "light"
     },
     "output_type": "display_data"
    }
   ],
   "source": [
    "to_plot= dict()\n",
    "for k,v in reports.items():\n",
    "    to_plot[k]=v.T.occupancy\n",
    "df =pd.DataFrame(to_plot)\n",
    "\n",
    "df = df.T[[1,2,3]]\n",
    "df.columns = ['d2d','s2s','ms']\n",
    "df.index = df.index*6\n",
    "fig, ax = plt.subplots(figsize = (10,5))\n",
    "df.plot(ax = ax)\n",
    "ax.set_ylabel('occupancy')\n",
    "ax.set_xlabel('demand')\n",
    "_ = fig.suptitle('Occupancy of respective pooling levels growing with the demand')"
   ]
  },
  {
   "cell_type": "code",
   "execution_count": 90,
   "metadata": {},
   "outputs": [
    {
     "data": {
      "image/png": "[encoded data removed]",
      "text/plain": [
       "<Figure size 720x360 with 1 Axes>"
      ]
     },
     "metadata": {
      "needs_background": "light"
     },
     "output_type": "display_data"
    }
   ],
   "source": [
    "to_plot= dict()\n",
    "for k,v in reports.items():\n",
    "    to_plot[k]=v.T.fare/k\n",
    "df =pd.DataFrame(to_plot)\n",
    "\n",
    "df = df.T[[0,1,2,3]]\n",
    "df.columns = ['private','d2d','s2s','ms']\n",
    "df.index = df.index*6\n",
    "fig, ax = plt.subplots(figsize = (10,5))\n",
    "df.plot(ax = ax)\n",
    "ax.set_ylabel('fare/pax')\n",
    "ax.set_xlabel('demand')\n",
    "_ = fig.suptitle('Occupancy of respective pooling levels growing with the demand')"
   ]
  },
  {
   "cell_type": "code",
   "execution_count": 85,
   "metadata": {},
   "outputs": [
    {
     "data": {
      "image/png": "[encoded data removed]",
      "text/plain": [
       "<Figure size 864x288 with 4 Axes>"
      ]
     },
     "metadata": {
      "needs_background": "light"
     },
     "output_type": "display_data"
    }
   ],
   "source": [
    "to_plot= dict()\n",
    "fig, ax = plt.subplots(1,4,figsize = (12,4), sharey = True)\n",
    "titles = ['private','door-to-door','stop-to-stop','multi-stop']\n",
    "for sol in [0,1,2,3]:\n",
    "    for k,v in reports.items():\n",
    "\n",
    "\n",
    "        to_plot[k*6]={'ms':v[sol].get('ms',0)/k,\n",
    "                    's2s':v[sol].get('s2s',0)/k,\n",
    "                   'd2d':v[sol].get('d2d',0)/k,\n",
    "                   'p':v[sol].get('p',0)/k}\n",
    "    df =pd.DataFrame(to_plot)\n",
    "\n",
    "    #df.T[[1,2,3]].div(df.T[1],axis=0).plot()\n",
    "    ax[sol].set_title(titles[sol])\n",
    "    df.T.plot(ax = ax[sol])\n",
    "    if sol == 0:\n",
    "        ax[sol].set_ylabel('share')\n",
    "    if sol <3 : \n",
    "        ax[sol].get_legend().remove()\n",
    "        "
   ]
  },
  {
   "cell_type": "markdown",
   "metadata": {},
   "source": [
    "---"
   ]
  },
  {
   "cell_type": "code",
   "execution_count": 84,
   "metadata": {},
   "outputs": [
    {
     "data": {
      "text/html": [
       "<div>\n",
       "<style scoped>\n",
       "    .dataframe tbody tr th:only-of-type {\n",
       "        vertical-align: middle;\n",
       "    }\n",
       "\n",
       "    .dataframe tbody tr th {\n",
       "        vertical-align: top;\n",
       "    }\n",
       "\n",
       "    .dataframe thead th {\n",
       "        text-align: right;\n",
       "    }\n",
       "</style>\n",
       "<table border=\"1\" class=\"dataframe\">\n",
       "  <thead>\n",
       "    <tr style=\"text-align: right;\">\n",
       "      <th></th>\n",
       "      <th>0</th>\n",
       "      <th>1</th>\n",
       "      <th>2</th>\n",
       "      <th>3</th>\n",
       "      <th>size</th>\n",
       "    </tr>\n",
       "  </thead>\n",
       "  <tbody>\n",
       "    <tr>\n",
       "      <th>d2d</th>\n",
       "      <td>NaN</td>\n",
       "      <td>851.000000</td>\n",
       "      <td>773.000000</td>\n",
       "      <td>724.000000</td>\n",
       "      <td>1200</td>\n",
       "    </tr>\n",
       "    <tr>\n",
       "      <th>dest_walk_time</th>\n",
       "      <td>0.000000</td>\n",
       "      <td>0.000000</td>\n",
       "      <td>13284.000000</td>\n",
       "      <td>23939.000000</td>\n",
       "      <td>1200</td>\n",
       "    </tr>\n",
       "    <tr>\n",
       "      <th>fare</th>\n",
       "      <td>6354.379500</td>\n",
       "      <td>4860.662471</td>\n",
       "      <td>4699.108050</td>\n",
       "      <td>4448.183325</td>\n",
       "      <td>1200</td>\n",
       "    </tr>\n",
       "    <tr>\n",
       "      <th>ms</th>\n",
       "      <td>NaN</td>\n",
       "      <td>NaN</td>\n",
       "      <td>NaN</td>\n",
       "      <td>96.000000</td>\n",
       "      <td>1200</td>\n",
       "    </tr>\n",
       "    <tr>\n",
       "      <th>nRides</th>\n",
       "      <td>1200.000000</td>\n",
       "      <td>32567.000000</td>\n",
       "      <td>32846.000000</td>\n",
       "      <td>117442.000000</td>\n",
       "      <td>1200</td>\n",
       "    </tr>\n",
       "    <tr>\n",
       "      <th>orig_walk_time</th>\n",
       "      <td>0.000000</td>\n",
       "      <td>0.000000</td>\n",
       "      <td>13548.000000</td>\n",
       "      <td>24966.000000</td>\n",
       "      <td>1200</td>\n",
       "    </tr>\n",
       "    <tr>\n",
       "      <th>p</th>\n",
       "      <td>1200.000000</td>\n",
       "      <td>349.000000</td>\n",
       "      <td>360.000000</td>\n",
       "      <td>358.000000</td>\n",
       "      <td>1200</td>\n",
       "    </tr>\n",
       "    <tr>\n",
       "      <th>s2s</th>\n",
       "      <td>NaN</td>\n",
       "      <td>NaN</td>\n",
       "      <td>67.000000</td>\n",
       "      <td>22.000000</td>\n",
       "      <td>1200</td>\n",
       "    </tr>\n",
       "    <tr>\n",
       "      <th>test</th>\n",
       "      <td>1.000000</td>\n",
       "      <td>1.000000</td>\n",
       "      <td>1.000000</td>\n",
       "      <td>1.000000</td>\n",
       "      <td>1200</td>\n",
       "    </tr>\n",
       "    <tr>\n",
       "      <th>ttrav</th>\n",
       "      <td>529018.000000</td>\n",
       "      <td>689117.000000</td>\n",
       "      <td>661933.375000</td>\n",
       "      <td>593234.875000</td>\n",
       "      <td>1200</td>\n",
       "    </tr>\n",
       "    <tr>\n",
       "      <th>u_pax</th>\n",
       "      <td>8206.978957</td>\n",
       "      <td>7863.827436</td>\n",
       "      <td>7776.103527</td>\n",
       "      <td>7315.801040</td>\n",
       "      <td>1200</td>\n",
       "    </tr>\n",
       "    <tr>\n",
       "      <th>u_veh</th>\n",
       "      <td>529018.000000</td>\n",
       "      <td>341517.000000</td>\n",
       "      <td>337985.375000</td>\n",
       "      <td>330763.625000</td>\n",
       "      <td>1200</td>\n",
       "    </tr>\n",
       "    <tr>\n",
       "      <th>efficiency</th>\n",
       "      <td>43.241943</td>\n",
       "      <td>51.237229</td>\n",
       "      <td>50.051837</td>\n",
       "      <td>48.413606</td>\n",
       "      <td>1200</td>\n",
       "    </tr>\n",
       "    <tr>\n",
       "      <th>occupancy</th>\n",
       "      <td>1.000000</td>\n",
       "      <td>1.549024</td>\n",
       "      <td>1.565210</td>\n",
       "      <td>1.599384</td>\n",
       "      <td>1200</td>\n",
       "    </tr>\n",
       "  </tbody>\n",
       "</table>\n",
       "</div>"
      ],
      "text/plain": [
       "                            0              1              2              3  \\\n",
       "d2d                       NaN     851.000000     773.000000     724.000000   \n",
       "dest_walk_time       0.000000       0.000000   13284.000000   23939.000000   \n",
       "fare              6354.379500    4860.662471    4699.108050    4448.183325   \n",
       "ms                        NaN            NaN            NaN      96.000000   \n",
       "nRides            1200.000000   32567.000000   32846.000000  117442.000000   \n",
       "orig_walk_time       0.000000       0.000000   13548.000000   24966.000000   \n",
       "p                 1200.000000     349.000000     360.000000     358.000000   \n",
       "s2s                       NaN            NaN      67.000000      22.000000   \n",
       "test                 1.000000       1.000000       1.000000       1.000000   \n",
       "ttrav           529018.000000  689117.000000  661933.375000  593234.875000   \n",
       "u_pax             8206.978957    7863.827436    7776.103527    7315.801040   \n",
       "u_veh           529018.000000  341517.000000  337985.375000  330763.625000   \n",
       "efficiency          43.241943      51.237229      50.051837      48.413606   \n",
       "occupancy            1.000000       1.549024       1.565210       1.599384   \n",
       "\n",
       "                size  \n",
       "d2d             1200  \n",
       "dest_walk_time  1200  \n",
       "fare            1200  \n",
       "ms              1200  \n",
       "nRides          1200  \n",
       "orig_walk_time  1200  \n",
       "p               1200  \n",
       "s2s             1200  \n",
       "test            1200  \n",
       "ttrav           1200  \n",
       "u_pax           1200  \n",
       "u_veh           1200  \n",
       "efficiency      1200  \n",
       "occupancy       1200  "
      ]
     },
     "execution_count": 84,
     "metadata": {},
     "output_type": "execute_result"
    }
   ],
   "source": [
    "reports[1200]"
   ]
  },
  {
   "cell_type": "code",
   "execution_count": null,
   "metadata": {},
   "outputs": [],
   "source": []
  }
 ],
 "metadata": {
  "kernelspec": {
   "display_name": "Python 3",
   "language": "python",
   "name": "python3"
  },
  "language_info": {
   "codemirror_mode": {
    "name": "ipython",
    "version": 3
   },
   "file_extension": ".py",
   "mimetype": "text/x-python",
   "name": "python",
   "nbconvert_exporter": "python",
   "pygments_lexer": "ipython3",
   "version": "3.7.6"
  }
 },
 "nbformat": 4,
 "nbformat_minor": 4
}
