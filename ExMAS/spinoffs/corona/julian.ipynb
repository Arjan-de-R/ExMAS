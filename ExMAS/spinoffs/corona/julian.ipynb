{
 "cells": [
  {
   "cell_type": "markdown",
   "metadata": {},
   "source": [
    "## ExMAS\n",
    "> Exact Matching of Attractive Shared rides (ExMAS) for system-wide strategic evaluations\n",
    "> \n",
    "> Kucharski R., Cats O. ,_Transportation Research Part: B_, 2020\n",
    "\n",
    "---"
   ]
  },
  {
   "cell_type": "code",
   "execution_count": 1,
   "metadata": {},
   "outputs": [],
   "source": [
    "import os\n",
    "cwd = os.getcwd()"
   ]
  },
  {
   "cell_type": "code",
   "execution_count": 2,
   "metadata": {},
   "outputs": [],
   "source": [
    "os.chdir(os.path.join(cwd,'../..'))\n",
    "import ExMAS.main\n",
    "import ExMAS.utils"
   ]
  },
  {
   "cell_type": "code",
   "execution_count": 3,
   "metadata": {},
   "outputs": [],
   "source": [
    "from ExMAS.utils import inData as inData\n",
    "from ExMAS.main import matching"
   ]
  },
  {
   "cell_type": "code",
   "execution_count": 4,
   "metadata": {},
   "outputs": [],
   "source": [
    "import random\n",
    "%load_ext autoreload\n",
    "%autoreload 2"
   ]
  },
  {
   "cell_type": "markdown",
   "metadata": {},
   "source": [
    "### prepare"
   ]
  },
  {
   "cell_type": "markdown",
   "metadata": {},
   "source": [
    "1. __load the default config__ (see more details in `ExMAS/notebooks/01 configuration.ipynb`)"
   ]
  },
  {
   "cell_type": "code",
   "execution_count": 5,
   "metadata": {},
   "outputs": [],
   "source": [
    "params = ExMAS.utils.get_config('ExMAS/data/configs/default.json') # load the default \n",
    "params.nP = 1000\n",
    "params.simTime = 4"
   ]
  },
  {
   "cell_type": "code",
   "execution_count": 18,
   "metadata": {},
   "outputs": [],
   "source": [
    "params.corona.participation = 0.5\n",
    "params.corona.p = 0.8\n",
    "params.corona.initial_share = 0.002"
   ]
  },
  {
   "cell_type": "markdown",
   "metadata": {},
   "source": [
    "2. __load the network__ (see more details in `ExMAS/notebooks/02 NetworkGraphs.ipynb`)"
   ]
  },
  {
   "cell_type": "code",
   "execution_count": 7,
   "metadata": {},
   "outputs": [],
   "source": [
    "inData = ExMAS.utils.load_G(inData, params, stats=True)  # download the graph"
   ]
  },
  {
   "cell_type": "markdown",
   "metadata": {},
   "source": [
    "3. __generate trip requests__ (see more details in `ExMAS/notebooks/02 NetworkGraphs.ipynb`)"
   ]
  },
  {
   "cell_type": "code",
   "execution_count": 8,
   "metadata": {},
   "outputs": [
    {
     "name": "stdout",
     "output_type": "stream",
     "text": [
      "1000\n"
     ]
    }
   ],
   "source": [
    "inData = ExMAS.utils.generate_demand(inData, params)"
   ]
  },
  {
   "cell_type": "code",
   "execution_count": 9,
   "metadata": {},
   "outputs": [],
   "source": [
    "params.logger_level = 'INFO'\n",
    "params.matching_obj = 'u_veh'\n",
    "params.without_matching = True\n",
    "params.multi_platform_matching = True"
   ]
  },
  {
   "cell_type": "code",
   "execution_count": 10,
   "metadata": {},
   "outputs": [],
   "source": [
    "import networkx as nx\n",
    "import math\n",
    "import pandas as pd"
   ]
  },
  {
   "cell_type": "markdown",
   "metadata": {},
   "source": [
    "### run"
   ]
  },
  {
   "cell_type": "code",
   "execution_count": 11,
   "metadata": {},
   "outputs": [
    {
     "name": "stdout",
     "output_type": "stream",
     "text": [
      "01-09-20 09:18:25-INFO-Initializing pairwise trip shareability between 1000 and 1000 trips.\n",
      "01-09-20 09:18:25-INFO-creating combinations\n",
      "01-09-20 09:18:26-INFO-999000\t nR*(nR-1)\n",
      "01-09-20 09:18:40-INFO-Reduction of feasible pairs by 99.85%\n",
      "01-09-20 09:18:40-INFO-Degree 2 \tCompleted\n",
      "01-09-20 09:18:40-INFO-trips to extend at degree 2 : 4063\n",
      "01-09-20 09:18:45-INFO-At degree 2 feasible extensions found out of 502 searched\n",
      "01-09-20 09:18:45-INFO-Degree 3 \tCompleted\n",
      "01-09-20 09:18:45-INFO-trips to extend at degree 3 : 502\n",
      "01-09-20 09:18:45-INFO-At degree 3 feasible extensions found out of 45 searched\n",
      "01-09-20 09:18:45-INFO-Degree 4 \tCompleted\n",
      "01-09-20 09:18:45-INFO-trips to extend at degree 4 : 45\n",
      "01-09-20 09:18:46-INFO-At degree 4 feasible extensions found out of 5 searched\n",
      "01-09-20 09:18:46-INFO-Degree 5 \tCompleted\n",
      "01-09-20 09:18:46-INFO-trips to extend at degree 5 : 5\n",
      "01-09-20 09:18:46-INFO-At degree 5 feasible extensions found out of 0 searched\n",
      "01-09-20 09:18:46-INFO-Degree 6 \tCompleted\n",
      "01-09-20 09:18:46-INFO-No more trips to exted at degree 6\n"
     ]
    }
   ],
   "source": [
    "inData = ExMAS.main(inData, params)"
   ]
  },
  {
   "cell_type": "code",
   "execution_count": 35,
   "metadata": {},
   "outputs": [],
   "source": [
    "def make_population(inData, params):\n",
    "    \"\"\"\n",
    "    generates initial population of _S_uspectible travellers and initial_share if _I_nfected given days prior\n",
    "    :param params: params.corona.initial_share, params.corona.infected_prior\n",
    "    :param inData\n",
    "    :return: inData.population DataFrame with index from inData.requests\n",
    "    \"\"\"\n",
    "    # init population\n",
    "\n",
    "    share_of_active = params.corona.participation / params.corona.p\n",
    "    inData.passengers['active'] = False  # part of the simulation\n",
    "    inData.passengers['state'] = 'S'\n",
    "    inData.passengers['quarantine_day'] = None\n",
    "    inData.passengers.active.loc[inData.requests.sample(int(share_of_active * params.nP)).index] = True\n",
    "    active_ones = inData.passengers[(inData.passengers.active == True)]\n",
    "    active_ones = active_ones.sample(int(active_ones.shape[0] * params.corona.p))\n",
    "    active_ones = active_ones[active_ones.state != 'Q']\n",
    "    inData.passengers['active_today'] = False\n",
    "    inData.passengers['active_today'].loc[active_ones.index] = True\n",
    "\n",
    "    inData.passengers['platforms'] = inData.passengers.apply(lambda x: [0] if x.active_today else [-1], axis=1)\n",
    "    inData.requests['platform'] = inData.requests.apply(lambda row: inData.passengers.loc[row.name].platforms[0],\n",
    "                                                        axis=1)\n",
    "    inData.sblts.requests['platform'] = inData.requests['platform']\n",
    "\n",
    "    # first share infected\n",
    "    inData.passengers['state'] = inData.passengers.apply(\n",
    "            lambda x: 'S' if random.random() > params.corona.initial_share else 'I', axis=1)\n",
    "    inData.passengers['infection_day'] = inData.passengers.apply(\n",
    "        lambda r: -1 if r.state == \"I\" else None, axis=1)\n",
    "    inData.passengers['infected_by'] = None\n",
    "    return inData"
   ]
  },
  {
   "cell_type": "code",
   "execution_count": 37,
   "metadata": {},
   "outputs": [
    {
     "data": {
      "text/plain": [
       "(1000,\n",
       " 625,\n",
       " 625,\n",
       " state\n",
       " I      3\n",
       " S    997\n",
       " dtype: int64)"
      ]
     },
     "execution_count": 37,
     "metadata": {},
     "output_type": "execute_result"
    }
   ],
   "source": [
    "params.corona.participation = 0.625\n",
    "params.corona.p = 1\n",
    "inData = make_population(inData,params)\n",
    "inData.passengers.shape[0], inData.passengers.active.sum(), inData.passengers.active_today.sum() , inData.passengers.groupby('state').size()"
   ]
  },
  {
   "cell_type": "code",
   "execution_count": null,
   "metadata": {},
   "outputs": [],
   "source": []
  },
  {
   "cell_type": "code",
   "execution_count": 70,
   "metadata": {},
   "outputs": [
    {
     "data": {
      "text/html": [
       "<div>\n",
       "<style scoped>\n",
       "    .dataframe tbody tr th:only-of-type {\n",
       "        vertical-align: middle;\n",
       "    }\n",
       "\n",
       "    .dataframe tbody tr th {\n",
       "        vertical-align: top;\n",
       "    }\n",
       "\n",
       "    .dataframe thead th {\n",
       "        text-align: right;\n",
       "    }\n",
       "</style>\n",
       "<table border=\"1\" class=\"dataframe\">\n",
       "  <thead>\n",
       "    <tr style=\"text-align: right;\">\n",
       "      <th></th>\n",
       "      <th>pos</th>\n",
       "      <th>status</th>\n",
       "      <th>active</th>\n",
       "      <th>state</th>\n",
       "      <th>quarantine_day</th>\n",
       "      <th>active_today</th>\n",
       "      <th>platforms</th>\n",
       "      <th>infection_day</th>\n",
       "      <th>infected_by</th>\n",
       "    </tr>\n",
       "  </thead>\n",
       "  <tbody>\n",
       "    <tr>\n",
       "      <th>98</th>\n",
       "      <td>1433963034</td>\n",
       "      <td>0</td>\n",
       "      <td>True</td>\n",
       "      <td>I</td>\n",
       "      <td>None</td>\n",
       "      <td>True</td>\n",
       "      <td>[0]</td>\n",
       "      <td>-1.0</td>\n",
       "      <td>None</td>\n",
       "    </tr>\n",
       "    <tr>\n",
       "      <th>333</th>\n",
       "      <td>44768467</td>\n",
       "      <td>0</td>\n",
       "      <td>True</td>\n",
       "      <td>I</td>\n",
       "      <td>None</td>\n",
       "      <td>True</td>\n",
       "      <td>[0]</td>\n",
       "      <td>-1.0</td>\n",
       "      <td>None</td>\n",
       "    </tr>\n",
       "    <tr>\n",
       "      <th>431</th>\n",
       "      <td>44783329</td>\n",
       "      <td>0</td>\n",
       "      <td>True</td>\n",
       "      <td>I</td>\n",
       "      <td>None</td>\n",
       "      <td>True</td>\n",
       "      <td>[0]</td>\n",
       "      <td>-1.0</td>\n",
       "      <td>None</td>\n",
       "    </tr>\n",
       "  </tbody>\n",
       "</table>\n",
       "</div>"
      ],
      "text/plain": [
       "            pos  status  active state quarantine_day  active_today platforms  \\\n",
       "98   1433963034       0    True     I           None          True       [0]   \n",
       "333    44768467       0    True     I           None          True       [0]   \n",
       "431    44783329       0    True     I           None          True       [0]   \n",
       "\n",
       "     infection_day infected_by  \n",
       "98            -1.0        None  \n",
       "333           -1.0        None  \n",
       "431           -1.0        None  "
      ]
     },
     "execution_count": 70,
     "metadata": {},
     "output_type": "execute_result"
    }
   ],
   "source": [
    "inData.passengers[(inData.passengers.state == 'I') & (inData.passengers.active_today == True)]"
   ]
  },
  {
   "cell_type": "code",
   "execution_count": 51,
   "metadata": {},
   "outputs": [
    {
     "ename": "NameError",
     "evalue": "name 'rides' is not defined",
     "output_type": "error",
     "traceback": [
      "\u001b[0;31m---------------------------------------------------------------------------\u001b[0m",
      "\u001b[0;31mNameError\u001b[0m                                 Traceback (most recent call last)",
      "\u001b[0;32m<ipython-input-51-a9edc3b14cbd>\u001b[0m in \u001b[0;36m<module>\u001b[0;34m\u001b[0m\n\u001b[0;32m----> 1\u001b[0;31m rides['platform'] = rides.apply(lambda row: list(set(_inData.sblts.requests.loc[row.indexes].platform.values)),\n\u001b[0m\u001b[1;32m      2\u001b[0m                                         axis=1)\n",
      "\u001b[0;31mNameError\u001b[0m: name 'rides' is not defined"
     ]
    }
   ],
   "source": []
  },
  {
   "cell_type": "code",
   "execution_count": 1,
   "metadata": {},
   "outputs": [
    {
     "ename": "NameError",
     "evalue": "name 'params' is not defined",
     "output_type": "error",
     "traceback": [
      "\u001b[0;31m---------------------------------------------------------------------------\u001b[0m",
      "\u001b[0;31mNameError\u001b[0m                                 Traceback (most recent call last)",
      "\u001b[0;32m<ipython-input-1-7860c615efec>\u001b[0m in \u001b[0;36m<module>\u001b[0;34m\u001b[0m\n\u001b[1;32m      1\u001b[0m \u001b[0;32mfor\u001b[0m \u001b[0mp\u001b[0m \u001b[0;32min\u001b[0m \u001b[0;34m[\u001b[0m\u001b[0;36m0.6\u001b[0m\u001b[0;34m,\u001b[0m \u001b[0;36m0.8\u001b[0m\u001b[0;34m,\u001b[0m \u001b[0;36m0.9\u001b[0m\u001b[0;34m]\u001b[0m\u001b[0;34m:\u001b[0m\u001b[0;34m\u001b[0m\u001b[0;34m\u001b[0m\u001b[0m\n\u001b[0;32m----> 2\u001b[0;31m     \u001b[0mparams\u001b[0m\u001b[0;34m.\u001b[0m\u001b[0mp\u001b[0m \u001b[0;34m=\u001b[0m \u001b[0mp\u001b[0m\u001b[0;34m\u001b[0m\u001b[0;34m\u001b[0m\u001b[0m\n\u001b[0m\u001b[1;32m      3\u001b[0m     \u001b[0mshare_of_active\u001b[0m \u001b[0;34m=\u001b[0m \u001b[0mparams\u001b[0m\u001b[0;34m.\u001b[0m\u001b[0mparticipation\u001b[0m \u001b[0;34m/\u001b[0m \u001b[0mparams\u001b[0m\u001b[0;34m.\u001b[0m\u001b[0mp\u001b[0m\u001b[0;34m\u001b[0m\u001b[0;34m\u001b[0m\u001b[0m\n\u001b[1;32m      4\u001b[0m     \u001b[0minData\u001b[0m\u001b[0;34m.\u001b[0m\u001b[0mpassengers\u001b[0m\u001b[0;34m[\u001b[0m\u001b[0;34m'active'\u001b[0m\u001b[0;34m]\u001b[0m \u001b[0;34m=\u001b[0m \u001b[0;32mFalse\u001b[0m\u001b[0;34m\u001b[0m\u001b[0;34m\u001b[0m\u001b[0m\n\u001b[1;32m      5\u001b[0m     \u001b[0minData\u001b[0m\u001b[0;34m.\u001b[0m\u001b[0mpassengers\u001b[0m\u001b[0;34m.\u001b[0m\u001b[0mactive\u001b[0m\u001b[0;34m.\u001b[0m\u001b[0mloc\u001b[0m\u001b[0;34m[\u001b[0m\u001b[0minData\u001b[0m\u001b[0;34m.\u001b[0m\u001b[0mrequests\u001b[0m\u001b[0;34m.\u001b[0m\u001b[0msample\u001b[0m\u001b[0;34m(\u001b[0m\u001b[0mint\u001b[0m\u001b[0;34m(\u001b[0m\u001b[0mshare_of_active\u001b[0m\u001b[0;34m*\u001b[0m\u001b[0mparams\u001b[0m\u001b[0;34m.\u001b[0m\u001b[0mnP\u001b[0m\u001b[0;34m)\u001b[0m\u001b[0;34m)\u001b[0m\u001b[0;34m.\u001b[0m\u001b[0mindex\u001b[0m\u001b[0;34m]\u001b[0m \u001b[0;34m=\u001b[0m \u001b[0;32mTrue\u001b[0m\u001b[0;34m\u001b[0m\u001b[0;34m\u001b[0m\u001b[0m\n",
      "\u001b[0;31mNameError\u001b[0m: name 'params' is not defined"
     ]
    }
   ],
   "source": [
    "for p in [0.6, 0.8, 0.9]:\n",
    "    params.p = p\n",
    "    share_of_active = params.participation / params.p\n",
    "    inData.passengers['active'] = False\n",
    "    inData.passengers.active.loc[inData.requests.sample(int(share_of_active*params.nP)).index] = True\n",
    "    for day in range(1,10):\n",
    "        print(p, day)\n",
    "        inData.passengers['active_today'] = inData.passengers.apply(lambda x : is_active_today(x), axis = 1)\n",
    "        inData.passengers['platforms'] = inData.passengers.apply(lambda x : [0] if x.active_today else [-1], axis = 1)\n",
    "        inData.requests['platform'] = inData.requests.apply(lambda row: inData.passengers.loc[row.name].platforms[0], axis=1)\n",
    "        inData.sblts.requests['platform'] = inData.requests['platform']\n",
    "        inData = matching(inData, params)        \n",
    "        G = ExMAS.utils.make_graph(inData.sblts.requests[inData.sblts.requests.platform == 0], inData.sblts.schedule, mu = 0.5, plot = False, node_size = 1)\n",
    "        nx.write_edgelist(G, 'ExMAS/spinoffs/edgelists/matching_p{}_day{}.csv'.format(params.p, day), delimiter = ',', data = False)\n",
    "        G = ExMAS.utils.make_graph(inData.sblts.requests[inData.sblts.requests.platform == 0], inData.sblts.rides, mu = 0.5, plot = False, node_size = 1)\n",
    "        nx.write_edgelist(G, 'ExMAS/spinoffs/edgelists/potential_p{}_day{}.csv'.format(params.p, day), delimiter = ',', data = False)"
   ]
  },
  {
   "cell_type": "code",
   "execution_count": null,
   "metadata": {},
   "outputs": [],
   "source": []
  }
 ],
 "metadata": {
  "kernelspec": {
   "display_name": "Python 3",
   "language": "python",
   "name": "python3"
  },
  "language_info": {
   "codemirror_mode": {
    "name": "ipython",
    "version": 3
   },
   "file_extension": ".py",
   "mimetype": "text/x-python",
   "name": "python",
   "nbconvert_exporter": "python",
   "pygments_lexer": "ipython3",
   "version": "3.7.6"
  }
 },
 "nbformat": 4,
 "nbformat_minor": 4
}
