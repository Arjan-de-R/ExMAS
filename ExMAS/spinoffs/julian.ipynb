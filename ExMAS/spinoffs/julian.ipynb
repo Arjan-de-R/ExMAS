{
 "cells": [
  {
   "cell_type": "markdown",
   "metadata": {},
   "source": [
    "## ExMAS\n",
    "> Exact Matching of Attractive Shared rides (ExMAS) for system-wide strategic evaluations\n",
    "> \n",
    "> Kucharski R., Cats O. ,_Transportation Research Part: B_, 2020\n",
    "\n",
    "---"
   ]
  },
  {
   "cell_type": "code",
   "execution_count": null,
   "metadata": {},
   "outputs": [],
   "source": [
    "import os\n",
    "cwd = os.getcwd()"
   ]
  },
  {
   "cell_type": "code",
   "execution_count": 2,
   "metadata": {},
   "outputs": [],
   "source": [
    "os.chdir(os.path.join(cwd,'../..'))\n",
    "import ExMAS.main\n",
    "import ExMAS.utils"
   ]
  },
  {
   "cell_type": "code",
   "execution_count": 3,
   "metadata": {},
   "outputs": [],
   "source": [
    "from ExMAS.utils import inData as inData\n",
    "from ExMAS.main import matching"
   ]
  },
  {
   "cell_type": "code",
   "execution_count": 4,
   "metadata": {},
   "outputs": [],
   "source": [
    "import random\n",
    "%load_ext autoreload\n",
    "%autoreload 2"
   ]
  },
  {
   "cell_type": "markdown",
   "metadata": {},
   "source": [
    "### prepare"
   ]
  },
  {
   "cell_type": "markdown",
   "metadata": {},
   "source": [
    "1. __load the default config__ (see more details in `ExMAS/notebooks/01 configuration.ipynb`)"
   ]
  },
  {
   "cell_type": "code",
   "execution_count": 36,
   "metadata": {},
   "outputs": [],
   "source": [
    "params = ExMAS.utils.get_config('ExMAS/data/configs/default.json') # load the default \n",
    "params.nP = 1000\n",
    "params.simTime = 4"
   ]
  },
  {
   "cell_type": "code",
   "execution_count": 37,
   "metadata": {},
   "outputs": [],
   "source": [
    "params.participation = 0.5\n",
    "params.p = 0.8"
   ]
  },
  {
   "cell_type": "markdown",
   "metadata": {},
   "source": [
    "2. __load the network__ (see more details in `ExMAS/notebooks/02 NetworkGraphs.ipynb`)"
   ]
  },
  {
   "cell_type": "code",
   "execution_count": 38,
   "metadata": {},
   "outputs": [],
   "source": [
    "inData = ExMAS.utils.load_G(inData, params, stats=True)  # download the graph"
   ]
  },
  {
   "cell_type": "markdown",
   "metadata": {},
   "source": [
    "3. __generate trip requests__ (see more details in `ExMAS/notebooks/02 NetworkGraphs.ipynb`)"
   ]
  },
  {
   "cell_type": "code",
   "execution_count": 43,
   "metadata": {},
   "outputs": [],
   "source": [
    "inData = ExMAS.utils.generate_demand(inData, params)"
   ]
  },
  {
   "cell_type": "code",
   "execution_count": 31,
   "metadata": {},
   "outputs": [],
   "source": [
    "params.logger_level = 'INFO'\n",
    "params.matching_obj = 'u_veh'\n",
    "params.without_matching = True\n",
    "params.multi_platform_matching = True"
   ]
  },
  {
   "cell_type": "code",
   "execution_count": 32,
   "metadata": {},
   "outputs": [],
   "source": [
    "import networkx as nx\n",
    "import math\n",
    "import pandas as pd"
   ]
  },
  {
   "cell_type": "markdown",
   "metadata": {},
   "source": [
    "### run"
   ]
  },
  {
   "cell_type": "code",
   "execution_count": 44,
   "metadata": {},
   "outputs": [
    {
     "name": "stdout",
     "output_type": "stream",
     "text": [
      "03-07-20 15:56:42-INFO-Initializing pairwise trip shareability between 1000 and 1000 trips.\n",
      "03-07-20 15:56:42-INFO-creating combinations\n",
      "03-07-20 15:56:43-INFO-999000\t nR*(nR-1)\n",
      "03-07-20 15:56:57-INFO-Reduction of feasible pairs by 99.85%\n",
      "03-07-20 15:56:57-INFO-Degree 2 \tCompleted\n",
      "03-07-20 15:56:57-INFO-trips to extend at degree 2 : 4222\n",
      "03-07-20 15:57:02-INFO-At degree 2 feasible extensions found out of 621 searched\n",
      "03-07-20 15:57:02-INFO-Degree 3 \tCompleted\n",
      "03-07-20 15:57:02-INFO-trips to extend at degree 3 : 621\n",
      "03-07-20 15:57:03-INFO-At degree 3 feasible extensions found out of 35 searched\n",
      "03-07-20 15:57:03-INFO-Degree 4 \tCompleted\n",
      "03-07-20 15:57:03-INFO-trips to extend at degree 4 : 35\n",
      "03-07-20 15:57:03-INFO-At degree 4 feasible extensions found out of 0 searched\n",
      "03-07-20 15:57:03-INFO-Degree 5 \tCompleted\n",
      "03-07-20 15:57:03-INFO-No more trips to exted at degree 5\n",
      "03-07-20 15:57:07-INFO-Matching 1000 trips to 5878 rides in order to minimize u_veh\n",
      "03-07-20 15:57:12-INFO-Problem solution: Optimal. \n",
      "Total costs for single trips:        331,258 \n",
      "reduced by matching to:              257,216\n",
      "03-07-20 15:57:12-INFO-Calculations  completed\n",
      "03-07-20 15:57:12-INFO-DotMap(VehHourTrav=254381, VehHourTrav_ns=331258, PassHourTrav=373667, PassHourTrav_ns=331258, PassUtility=4894.276699999999, PassUtility_ns=5139.8135, mean_lambda=0.28949683493574074, revenue_s=347820.89999999997, revenue_ns=496887.0, Fare_Discount=-0.30000000000000004, nR=1000, SINGLE=362, PAIRS=189, TRIPLES=76, QUADRIPLES=8, QUINTETS=0, PLUS5=0, shared_ratio=0.638, fleet_size_nonshared=31.0, fleet_size_shared=24.0, lambda_shared=0.28949683493574074)\n"
     ]
    }
   ],
   "source": [
    "inData = ExMAS.main(inData, params)"
   ]
  },
  {
   "cell_type": "code",
   "execution_count": 1,
   "metadata": {},
   "outputs": [
    {
     "ename": "NameError",
     "evalue": "name 'params' is not defined",
     "output_type": "error",
     "traceback": [
      "\u001b[0;31m---------------------------------------------------------------------------\u001b[0m",
      "\u001b[0;31mNameError\u001b[0m                                 Traceback (most recent call last)",
      "\u001b[0;32m<ipython-input-1-7860c615efec>\u001b[0m in \u001b[0;36m<module>\u001b[0;34m\u001b[0m\n\u001b[1;32m      1\u001b[0m \u001b[0;32mfor\u001b[0m \u001b[0mp\u001b[0m \u001b[0;32min\u001b[0m \u001b[0;34m[\u001b[0m\u001b[0;36m0.6\u001b[0m\u001b[0;34m,\u001b[0m \u001b[0;36m0.8\u001b[0m\u001b[0;34m,\u001b[0m \u001b[0;36m0.9\u001b[0m\u001b[0;34m]\u001b[0m\u001b[0;34m:\u001b[0m\u001b[0;34m\u001b[0m\u001b[0;34m\u001b[0m\u001b[0m\n\u001b[0;32m----> 2\u001b[0;31m     \u001b[0mparams\u001b[0m\u001b[0;34m.\u001b[0m\u001b[0mp\u001b[0m \u001b[0;34m=\u001b[0m \u001b[0mp\u001b[0m\u001b[0;34m\u001b[0m\u001b[0;34m\u001b[0m\u001b[0m\n\u001b[0m\u001b[1;32m      3\u001b[0m     \u001b[0mshare_of_active\u001b[0m \u001b[0;34m=\u001b[0m \u001b[0mparams\u001b[0m\u001b[0;34m.\u001b[0m\u001b[0mparticipation\u001b[0m \u001b[0;34m/\u001b[0m \u001b[0mparams\u001b[0m\u001b[0;34m.\u001b[0m\u001b[0mp\u001b[0m\u001b[0;34m\u001b[0m\u001b[0;34m\u001b[0m\u001b[0m\n\u001b[1;32m      4\u001b[0m     \u001b[0minData\u001b[0m\u001b[0;34m.\u001b[0m\u001b[0mpassengers\u001b[0m\u001b[0;34m[\u001b[0m\u001b[0;34m'active'\u001b[0m\u001b[0;34m]\u001b[0m \u001b[0;34m=\u001b[0m \u001b[0;32mFalse\u001b[0m\u001b[0;34m\u001b[0m\u001b[0;34m\u001b[0m\u001b[0m\n\u001b[1;32m      5\u001b[0m     \u001b[0minData\u001b[0m\u001b[0;34m.\u001b[0m\u001b[0mpassengers\u001b[0m\u001b[0;34m.\u001b[0m\u001b[0mactive\u001b[0m\u001b[0;34m.\u001b[0m\u001b[0mloc\u001b[0m\u001b[0;34m[\u001b[0m\u001b[0minData\u001b[0m\u001b[0;34m.\u001b[0m\u001b[0mrequests\u001b[0m\u001b[0;34m.\u001b[0m\u001b[0msample\u001b[0m\u001b[0;34m(\u001b[0m\u001b[0mint\u001b[0m\u001b[0;34m(\u001b[0m\u001b[0mshare_of_active\u001b[0m\u001b[0;34m*\u001b[0m\u001b[0mparams\u001b[0m\u001b[0;34m.\u001b[0m\u001b[0mnP\u001b[0m\u001b[0;34m)\u001b[0m\u001b[0;34m)\u001b[0m\u001b[0;34m.\u001b[0m\u001b[0mindex\u001b[0m\u001b[0;34m]\u001b[0m \u001b[0;34m=\u001b[0m \u001b[0;32mTrue\u001b[0m\u001b[0;34m\u001b[0m\u001b[0;34m\u001b[0m\u001b[0m\n",
      "\u001b[0;31mNameError\u001b[0m: name 'params' is not defined"
     ]
    }
   ],
   "source": [
    "for p in [0.6, 0.8, 0.9]:\n",
    "    params.p = p\n",
    "    share_of_active = params.participation / params.p\n",
    "    inData.passengers['active'] = False\n",
    "    inData.passengers.active.loc[inData.requests.sample(int(share_of_active*params.nP)).index] = True\n",
    "    for day in range(1,10):\n",
    "        print(p, day)\n",
    "        inData.passengers['active_today'] = inData.passengers.apply(lambda x : is_active_today(x), axis = 1)\n",
    "        inData.passengers['platforms'] = inData.passengers.apply(lambda x : [0] if x.active_today else [-1], axis = 1)\n",
    "        inData.requests['platform'] = inData.requests.apply(lambda row: inData.passengers.loc[row.name].platforms[0], axis=1)\n",
    "        inData.sblts.requests['platform'] = inData.requests['platform']\n",
    "        inData = matching(inData, params)        \n",
    "        G = ExMAS.utils.make_graph(inData.sblts.requests[inData.sblts.requests.platform == 0], inData.sblts.schedule, mu = 0.5, plot = False, node_size = 1)\n",
    "        nx.write_edgelist(G, 'ExMAS/spinoffs/edgelists/matching_p{}_day{}.csv'.format(params.p, day), delimiter = ',', data = False)\n",
    "        G = ExMAS.utils.make_graph(inData.sblts.requests[inData.sblts.requests.platform == 0], inData.sblts.rides, mu = 0.5, plot = False, node_size = 1)\n",
    "        nx.write_edgelist(G, 'ExMAS/spinoffs/edgelists/potential_p{}_day{}.csv'.format(params.p, day), delimiter = ',', data = False)"
   ]
  },
  {
   "cell_type": "code",
   "execution_count": null,
   "metadata": {},
   "outputs": [],
   "source": []
  }
 ],
 "metadata": {
  "kernelspec": {
   "display_name": "Python 3",
   "language": "python",
   "name": "python3"
  },
  "language_info": {
   "codemirror_mode": {
    "name": "ipython",
    "version": 3
   },
   "file_extension": ".py",
   "mimetype": "text/x-python",
   "name": "python",
   "nbconvert_exporter": "python",
   "pygments_lexer": "ipython3",
   "version": "3.7.6"
  }
 },
 "nbformat": 4,
 "nbformat_minor": 4
}
