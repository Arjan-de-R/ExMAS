{
 "cells": [
  {
   "cell_type": "markdown",
   "metadata": {},
   "source": [
    "## ExMAS\n",
    "> Exact Matching of Attractive Shared rides (ExMAS) for system-wide strategic evaluations\n",
    "> \n",
    "> Kucharski R., Cats O. ,_Transportation Research Part: B_, 2020\n",
    "\n",
    "---"
   ]
  },
  {
   "cell_type": "code",
   "execution_count": null,
   "metadata": {},
   "outputs": [],
   "source": [
    "import os\n",
    "cwd = os.getcwd()"
   ]
  },
  {
   "cell_type": "code",
   "execution_count": 2,
   "metadata": {},
   "outputs": [],
   "source": [
    "os.chdir(os.path.join(cwd,'../..'))\n",
    "import ExMAS.main\n",
    "import ExMAS.utils"
   ]
  },
  {
   "cell_type": "code",
   "execution_count": 3,
   "metadata": {},
   "outputs": [],
   "source": [
    "from ExMAS.utils import inData as inData\n",
    "from ExMAS.main import matching"
   ]
  },
  {
   "cell_type": "code",
   "execution_count": 4,
   "metadata": {},
   "outputs": [],
   "source": [
    "import random\n",
    "%load_ext autoreload\n",
    "%autoreload 2"
   ]
  },
  {
   "cell_type": "markdown",
   "metadata": {},
   "source": [
    "### prepare"
   ]
  },
  {
   "cell_type": "markdown",
   "metadata": {},
   "source": [
    "1. __load the default config__ (see more details in `ExMAS/notebooks/01 configuration.ipynb`)"
   ]
  },
  {
   "cell_type": "code",
   "execution_count": 36,
   "metadata": {},
   "outputs": [],
   "source": [
    "params = ExMAS.utils.get_config('ExMAS/data/configs/default.json') # load the default \n",
    "params.nP = 1000\n",
    "params.simTime = 4"
   ]
  },
  {
   "cell_type": "code",
   "execution_count": 37,
   "metadata": {},
   "outputs": [],
   "source": [
    "params.participation = 0.5\n",
    "params.p = 0.8"
   ]
  },
  {
   "cell_type": "markdown",
   "metadata": {},
   "source": [
    "2. __load the network__ (see more details in `ExMAS/notebooks/02 NetworkGraphs.ipynb`)"
   ]
  },
  {
   "cell_type": "code",
   "execution_count": 38,
   "metadata": {},
   "outputs": [],
   "source": [
    "inData = ExMAS.utils.load_G(inData, params, stats=True)  # download the graph"
   ]
  },
  {
   "cell_type": "markdown",
   "metadata": {},
   "source": [
    "3. __generate trip requests__ (see more details in `ExMAS/notebooks/02 NetworkGraphs.ipynb`)"
   ]
  },
  {
   "cell_type": "code",
   "execution_count": 43,
   "metadata": {},
   "outputs": [],
   "source": [
    "inData = ExMAS.utils.generate_demand(inData, params)"
   ]
  },
  {
   "cell_type": "code",
   "execution_count": 31,
   "metadata": {},
   "outputs": [],
   "source": [
    "params.logger_level = 'INFO'\n",
    "params.matching_obj = 'u_veh'\n",
    "params.without_matching = True\n",
    "params.multi_platform_matching = True"
   ]
  },
  {
   "cell_type": "code",
   "execution_count": 32,
   "metadata": {},
   "outputs": [],
   "source": [
    "import networkx as nx\n",
    "import math\n",
    "import pandas as pd"
   ]
  },
  {
   "cell_type": "markdown",
   "metadata": {},
   "source": [
    "### run"
   ]
  },
  {
   "cell_type": "code",
   "execution_count": 44,
   "metadata": {},
   "outputs": [
    {
     "name": "stdout",
     "output_type": "stream",
     "text": [
      "03-07-20 15:56:42-INFO-Initializing pairwise trip shareability between 1000 and 1000 trips.\n",
      "03-07-20 15:56:42-INFO-creating combinations\n",
      "03-07-20 15:56:43-INFO-999000\t nR*(nR-1)\n",
      "03-07-20 15:56:57-INFO-Reduction of feasible pairs by 99.85%\n",
      "03-07-20 15:56:57-INFO-Degree 2 \tCompleted\n",
      "03-07-20 15:56:57-INFO-trips to extend at degree 2 : 4222\n",
      "03-07-20 15:57:02-INFO-At degree 2 feasible extensions found out of 621 searched\n",
      "03-07-20 15:57:02-INFO-Degree 3 \tCompleted\n",
      "03-07-20 15:57:02-INFO-trips to extend at degree 3 : 621\n",
      "03-07-20 15:57:03-INFO-At degree 3 feasible extensions found out of 35 searched\n",
      "03-07-20 15:57:03-INFO-Degree 4 \tCompleted\n",
      "03-07-20 15:57:03-INFO-trips to extend at degree 4 : 35\n",
      "03-07-20 15:57:03-INFO-At degree 4 feasible extensions found out of 0 searched\n",
      "03-07-20 15:57:03-INFO-Degree 5 \tCompleted\n",
      "03-07-20 15:57:03-INFO-No more trips to exted at degree 5\n",
      "03-07-20 15:57:07-INFO-Matching 1000 trips to 5878 rides in order to minimize u_veh\n",
      "03-07-20 15:57:12-INFO-Problem solution: Optimal. \n",
      "Total costs for single trips:        331,258 \n",
      "reduced by matching to:              257,216\n",
      "03-07-20 15:57:12-INFO-Calculations  completed\n",
      "03-07-20 15:57:12-INFO-DotMap(VehHourTrav=254381, VehHourTrav_ns=331258, PassHourTrav=373667, PassHourTrav_ns=331258, PassUtility=4894.276699999999, PassUtility_ns=5139.8135, mean_lambda=0.28949683493574074, revenue_s=347820.89999999997, revenue_ns=496887.0, Fare_Discount=-0.30000000000000004, nR=1000, SINGLE=362, PAIRS=189, TRIPLES=76, QUADRIPLES=8, QUINTETS=0, PLUS5=0, shared_ratio=0.638, fleet_size_nonshared=31.0, fleet_size_shared=24.0, lambda_shared=0.28949683493574074)\n"
     ]
    }
   ],
   "source": [
    "inData = ExMAS.main(inData, params)"
   ]
  },
  {
   "cell_type": "code",
   "execution_count": 45,
   "metadata": {},
   "outputs": [
    {
     "name": "stdout",
     "output_type": "stream",
     "text": [
      "0.6 1\n",
      "03-07-20 15:58:02-INFO-Matching 1000 trips to 5878 rides in order to minimize u_veh\n",
      "03-07-20 15:58:06-INFO-Problem solution: Optimal. \n",
      "Total costs for single trips:        331,258 \n",
      "reduced by matching to:              257,216\n",
      "0.6 2\n",
      "03-07-20 15:58:13-INFO-Matching 1000 trips to 5878 rides in order to minimize u_veh\n",
      "03-07-20 15:58:17-INFO-Problem solution: Optimal. \n",
      "Total costs for single trips:        331,258 \n",
      "reduced by matching to:              257,216\n",
      "0.6 3\n",
      "03-07-20 15:58:24-INFO-Matching 1000 trips to 5878 rides in order to minimize u_veh\n",
      "03-07-20 15:58:28-INFO-Problem solution: Optimal. \n",
      "Total costs for single trips:        331,258 \n",
      "reduced by matching to:              257,216\n",
      "0.6 4\n",
      "03-07-20 15:58:35-INFO-Matching 1000 trips to 5878 rides in order to minimize u_veh\n",
      "03-07-20 15:58:39-INFO-Problem solution: Optimal. \n",
      "Total costs for single trips:        331,258 \n",
      "reduced by matching to:              257,216\n",
      "0.6 5\n",
      "03-07-20 15:58:46-INFO-Matching 1000 trips to 5878 rides in order to minimize u_veh\n",
      "03-07-20 15:58:49-INFO-Problem solution: Optimal. \n",
      "Total costs for single trips:        331,258 \n",
      "reduced by matching to:              257,216\n",
      "0.6 6\n",
      "03-07-20 15:58:56-INFO-Matching 1000 trips to 5878 rides in order to minimize u_veh\n",
      "03-07-20 15:59:00-INFO-Problem solution: Optimal. \n",
      "Total costs for single trips:        331,258 \n",
      "reduced by matching to:              257,216\n",
      "0.6 7\n",
      "03-07-20 15:59:08-INFO-Matching 1000 trips to 5878 rides in order to minimize u_veh\n",
      "03-07-20 15:59:12-INFO-Problem solution: Optimal. \n",
      "Total costs for single trips:        331,258 \n",
      "reduced by matching to:              257,216\n",
      "0.6 8\n",
      "03-07-20 15:59:19-INFO-Matching 1000 trips to 5878 rides in order to minimize u_veh\n",
      "03-07-20 15:59:23-INFO-Problem solution: Optimal. \n",
      "Total costs for single trips:        331,258 \n",
      "reduced by matching to:              257,216\n",
      "0.6 9\n",
      "03-07-20 15:59:30-INFO-Matching 1000 trips to 5878 rides in order to minimize u_veh\n",
      "03-07-20 15:59:34-INFO-Problem solution: Optimal. \n",
      "Total costs for single trips:        331,258 \n",
      "reduced by matching to:              257,216\n",
      "0.8 1\n",
      "03-07-20 15:59:41-INFO-Matching 1000 trips to 5878 rides in order to minimize u_veh\n",
      "03-07-20 15:59:46-INFO-Problem solution: Optimal. \n",
      "Total costs for single trips:        331,258 \n",
      "reduced by matching to:              257,216\n",
      "0.8 2\n",
      "03-07-20 15:59:53-INFO-Matching 1000 trips to 5878 rides in order to minimize u_veh\n",
      "03-07-20 15:59:57-INFO-Problem solution: Optimal. \n",
      "Total costs for single trips:        331,258 \n",
      "reduced by matching to:              257,216\n",
      "0.8 3\n",
      "03-07-20 16:00:04-INFO-Matching 1000 trips to 5878 rides in order to minimize u_veh\n",
      "03-07-20 16:00:08-INFO-Problem solution: Optimal. \n",
      "Total costs for single trips:        331,258 \n",
      "reduced by matching to:              257,216\n",
      "0.8 4\n",
      "03-07-20 16:00:16-INFO-Matching 1000 trips to 5878 rides in order to minimize u_veh\n",
      "03-07-20 16:00:20-INFO-Problem solution: Optimal. \n",
      "Total costs for single trips:        331,258 \n",
      "reduced by matching to:              257,216\n",
      "0.8 5\n",
      "03-07-20 16:00:27-INFO-Matching 1000 trips to 5878 rides in order to minimize u_veh\n",
      "03-07-20 16:00:31-INFO-Problem solution: Optimal. \n",
      "Total costs for single trips:        331,258 \n",
      "reduced by matching to:              257,216\n",
      "0.8 6\n",
      "03-07-20 16:00:38-INFO-Matching 1000 trips to 5878 rides in order to minimize u_veh\n",
      "03-07-20 16:00:42-INFO-Problem solution: Optimal. \n",
      "Total costs for single trips:        331,258 \n",
      "reduced by matching to:              257,216\n",
      "0.8 7\n",
      "03-07-20 16:00:49-INFO-Matching 1000 trips to 5878 rides in order to minimize u_veh\n",
      "03-07-20 16:00:53-INFO-Problem solution: Optimal. \n",
      "Total costs for single trips:        331,258 \n",
      "reduced by matching to:              257,216\n",
      "0.8 8\n",
      "03-07-20 16:01:01-INFO-Matching 1000 trips to 5878 rides in order to minimize u_veh\n",
      "03-07-20 16:01:05-INFO-Problem solution: Optimal. \n",
      "Total costs for single trips:        331,258 \n",
      "reduced by matching to:              257,216\n",
      "0.8 9\n",
      "03-07-20 16:01:12-INFO-Matching 1000 trips to 5878 rides in order to minimize u_veh\n",
      "03-07-20 16:01:16-INFO-Problem solution: Optimal. \n",
      "Total costs for single trips:        331,258 \n",
      "reduced by matching to:              257,216\n",
      "0.9 1\n",
      "03-07-20 16:01:23-INFO-Matching 1000 trips to 5878 rides in order to minimize u_veh\n",
      "03-07-20 16:01:27-INFO-Problem solution: Optimal. \n",
      "Total costs for single trips:        331,258 \n",
      "reduced by matching to:              257,216\n",
      "0.9 2\n",
      "03-07-20 16:01:34-INFO-Matching 1000 trips to 5878 rides in order to minimize u_veh\n",
      "03-07-20 16:01:38-INFO-Problem solution: Optimal. \n",
      "Total costs for single trips:        331,258 \n",
      "reduced by matching to:              257,216\n",
      "0.9 3\n",
      "03-07-20 16:01:45-INFO-Matching 1000 trips to 5878 rides in order to minimize u_veh\n",
      "03-07-20 16:01:48-INFO-Problem solution: Optimal. \n",
      "Total costs for single trips:        331,258 \n",
      "reduced by matching to:              257,216\n",
      "0.9 4\n",
      "03-07-20 16:01:55-INFO-Matching 1000 trips to 5878 rides in order to minimize u_veh\n",
      "03-07-20 16:01:59-INFO-Problem solution: Optimal. \n",
      "Total costs for single trips:        331,258 \n",
      "reduced by matching to:              257,216\n",
      "0.9 5\n",
      "03-07-20 16:02:06-INFO-Matching 1000 trips to 5878 rides in order to minimize u_veh\n",
      "03-07-20 16:02:10-INFO-Problem solution: Optimal. \n",
      "Total costs for single trips:        331,258 \n",
      "reduced by matching to:              257,216\n",
      "0.9 6\n",
      "03-07-20 16:02:17-INFO-Matching 1000 trips to 5878 rides in order to minimize u_veh\n",
      "03-07-20 16:02:21-INFO-Problem solution: Optimal. \n",
      "Total costs for single trips:        331,258 \n",
      "reduced by matching to:              257,216\n",
      "0.9 7\n",
      "03-07-20 16:02:28-INFO-Matching 1000 trips to 5878 rides in order to minimize u_veh\n",
      "03-07-20 16:02:32-INFO-Problem solution: Optimal. \n",
      "Total costs for single trips:        331,258 \n",
      "reduced by matching to:              257,216\n",
      "0.9 8\n",
      "03-07-20 16:02:39-INFO-Matching 1000 trips to 5878 rides in order to minimize u_veh\n",
      "03-07-20 16:02:43-INFO-Problem solution: Optimal. \n",
      "Total costs for single trips:        331,258 \n",
      "reduced by matching to:              257,216\n",
      "0.9 9\n",
      "03-07-20 16:02:51-INFO-Matching 1000 trips to 5878 rides in order to minimize u_veh\n",
      "03-07-20 16:02:55-INFO-Problem solution: Optimal. \n",
      "Total costs for single trips:        331,258 \n",
      "reduced by matching to:              257,216\n"
     ]
    }
   ],
   "source": [
    "for p in [0.6, 0.8, 0.9]:\n",
    "    params.p = p\n",
    "    share_of_active = params.participation / params.p\n",
    "    inData.passengers['active'] = False\n",
    "    inData.passengers.active.loc[inData.requests.sample(int(share_of_active*params.nP)).index] = True\n",
    "    for day in range(1,10):\n",
    "        print(p, day)\n",
    "        inData.passengers['active_today'] = inData.passengers.apply(lambda x : is_active_today(x), axis = 1)\n",
    "        inData.passengers['platforms'] = inData.passengers.apply(lambda x : [0] if x.active_today else [-1], axis = 1)\n",
    "        inData.requests['platform'] = inData.requests.apply(lambda row: inData.passengers.loc[row.name].platforms[0], axis=1)\n",
    "        inData.sblts.requests['platform'] = inData.requests['platform']\n",
    "        inData = matching(inData, params)        \n",
    "        G = ExMAS.utils.make_graph(inData.sblts.requests[inData.sblts.requests.platform == 0], inData.sblts.schedule, mu = 0.5, plot = False, node_size = 1)\n",
    "        nx.write_edgelist(G, 'ExMAS/spinoffs/edgelists/matching_p{}_day{}.csv'.format(params.p, day), delimiter = ',', data = False)\n",
    "        G = ExMAS.utils.make_graph(inData.sblts.requests[inData.sblts.requests.platform == 0], inData.sblts.rides, mu = 0.5, plot = False, node_size = 1)\n",
    "        nx.write_edgelist(G, 'ExMAS/spinoffs/edgelists/potential_p{}_day{}.csv'.format(params.p, day), delimiter = ',', data = False)"
   ]
  },
  {
   "cell_type": "code",
   "execution_count": null,
   "metadata": {},
   "outputs": [],
   "source": []
  }
 ],
 "metadata": {
  "kernelspec": {
   "display_name": "Python 3",
   "language": "python",
   "name": "python3"
  },
  "language_info": {
   "codemirror_mode": {
    "name": "ipython",
    "version": 3
   },
   "file_extension": ".py",
   "mimetype": "text/x-python",
   "name": "python",
   "nbconvert_exporter": "python",
   "pygments_lexer": "ipython3",
   "version": "3.7.6"
  }
 },
 "nbformat": 4,
 "nbformat_minor": 4
}
