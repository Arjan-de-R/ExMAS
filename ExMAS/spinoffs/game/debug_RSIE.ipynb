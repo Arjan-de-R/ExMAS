{
 "cells": [
  {
   "cell_type": "markdown",
   "metadata": {},
   "source": [
    "## ExMAS\n",
    "> Equilibrium matching\n",
    "\n",
    "\n",
    "\n",
    "Here I:\n",
    "\n",
    "* generatre demand\n",
    "* compute groups with ExMAS\n",
    "* compute costs for groups and travellers\n",
    "* apply Externality splitting protocol\n",
    "* run ExMAS\n",
    "* prune groups with RSIE\n",
    "* see if there is a group in ExMAS which is then mutually unstable with RSIE - it is (834,29)\n",
    "* I report why it is unstable\n"
   ]
  },
  {
   "cell_type": "code",
   "execution_count": 1,
   "metadata": {},
   "outputs": [],
   "source": [
    "import os\n",
    "import math\n",
    "import seaborn as sns\n",
    "import numpy as np\n",
    "import pandas as pd\n",
    "import matplotlib.pyplot as plt\n",
    "cwd = os.getcwd()\n",
    "%load_ext autoreload\n",
    "%autoreload 2"
   ]
  },
  {
   "cell_type": "code",
   "execution_count": 2,
   "metadata": {},
   "outputs": [],
   "source": [
    "from IPython.display import display\n",
    "pd.options.display.max_columns = None"
   ]
  },
  {
   "cell_type": "code",
   "execution_count": 3,
   "metadata": {},
   "outputs": [],
   "source": [
    "os.chdir(os.path.join(cwd,'../../..'))\n",
    "import ExMAS.main\n",
    "import ExMAS.utils\n",
    "from ExMAS.utils import inData as inData\n",
    "from ExMAS.main import matching\n",
    "from ExMAS.extras import games, pricings, prunings, pipeline"
   ]
  },
  {
   "cell_type": "code",
   "execution_count": 4,
   "metadata": {},
   "outputs": [],
   "source": [
    "params = ExMAS.utils.get_config('ExMAS/spinoffs/game/pipe.json') # load the default \n",
    "params.t0 = pd.to_datetime(params.t0)\n",
    "params.matching_obj = 'u_pax'\n",
    "inData = ExMAS.utils.load_G(inData, params, stats=True)  # download the graph\n",
    "params.nP = 100\n",
    "params.simTime = 0.1\n",
    "params.shared_discount = 0.3\n",
    "inData = ExMAS.utils.generate_demand(inData, params)  # generate requests"
   ]
  },
  {
   "cell_type": "code",
   "execution_count": 5,
   "metadata": {},
   "outputs": [
    {
     "name": "stdout",
     "output_type": "stream",
     "text": [
      "13-04-21 16:50:39-WARNING-Prepare for game:  1/6\n",
      "13-04-21 16:50:40-WARNING-Prepare for game:  2/6\n",
      "13-04-21 16:50:41-WARNING-Prepare for game:  3/6\n",
      "13-04-21 16:50:42-WARNING-Prepare for game:  4/6\n",
      "13-04-21 16:51:24-WARNING-Prepare for game:  5/6\n",
      "13-04-21 16:51:27-WARNING-Prepare for game:  6/6\n"
     ]
    }
   ],
   "source": [
    "inData = ExMAS.main(inData, params, plot = False)\n",
    "KPIs = inData.sblts.res.to_frame('u_pax')\n",
    "inData = games.prepare_PoA(inData)  # prepare data structures"
   ]
  },
  {
   "cell_type": "code",
   "execution_count": 6,
   "metadata": {},
   "outputs": [],
   "source": [
    "\n",
    "params.time_cost = params.VoT # travellers' cost per travel time\n",
    "params.wait_cost = params.time_cost*1.5 # and waiting\n",
    "params.sharing_penalty_fixed = 0 # fixed penalty (EUR) per \n",
    "params.sharing_penalty_multiplier = 0 # fixed penalty (EUR) per \n",
    "\n",
    "params.veh_cost = 1.3*params.VoT/params.avg_speed # operating costs per kilometer\n",
    "params.fixed_ride_cost = 0.5 # ride fixed costs (per vehicle)"
   ]
  },
  {
   "cell_type": "code",
   "execution_count": 7,
   "metadata": {},
   "outputs": [
    {
     "name": "stdout",
     "output_type": "stream",
     "text": [
      "13-04-21 16:51:27-WARNING-Prepare for game:  1/6\n",
      "13-04-21 16:51:28-WARNING-Prepare for game:  2/6\n",
      "13-04-21 16:51:29-WARNING-Prepare for game:  3/6\n",
      "13-04-21 16:51:29-WARNING-Prepare for game:  4/6\n",
      "13-04-21 16:52:15-WARNING-Prepare for game:  5/6\n",
      "13-04-21 16:52:17-WARNING-Prepare for game:  6/6\n"
     ]
    }
   ],
   "source": [
    "inData = games.prepare_PoA(inData)"
   ]
  },
  {
   "cell_type": "code",
   "execution_count": 10,
   "metadata": {},
   "outputs": [],
   "source": [
    "def update_costs(inData, params):\n",
    "    '''\n",
    "    Set a costs attributes for the rides\n",
    "    :param inData: there are two tables, one is inData.sblts.rides taken directly from ExMAS,\n",
    "    another it rides_multi_index, where data about each ride-traveller information is stored.\n",
    "    It is generated in the games.PreparePoA\n",
    "    :param params:\n",
    "    :return:\n",
    "    '''\n",
    "\n",
    "    rm = inData.sblts.rides_multi_index  # ride (group) - traveller data\n",
    "    rides = inData.sblts.rides  # rides data\n",
    "\n",
    "    rm['distance'] = rm.ride_time * params.avg_speed  # update distances from travel times\n",
    "\n",
    "    rm['cost_veh'] = params.veh_cost * rm['distance'] + params.fixed_ride_cost  # vehicle running costs\n",
    "\n",
    "    # formula for the user costs (disutility)\n",
    "    rm['cost_user'] = params.time_cost * rm.ttrav_sh + \\\n",
    "                      params.wait_cost * abs(rm.delay) + \\\n",
    "                      params.sharing_penalty_fixed * rm.shared + \\\n",
    "                      params.sharing_penalty_multiplier * params.time_cost * rm.shared * rm.ttrav_sh\n",
    "\n",
    "    rides['costs_user'] = rm.groupby('ride').sum()['cost_user']  # sum user costs for a ride\n",
    "    rides['costs_veh'] = rm.groupby('ride').max()['cost_veh']  # assign vehicle costs for rides\n",
    "    rides['costs_total'] = rides['costs_user'] + rides['costs_veh']  # total ride costs (vehicle + all users)\n",
    "\n",
    "    rm['total_group_cost'] = rm.apply(lambda r: rm.loc[r.ride, :].cost_user.sum() + rm.loc[r.ride, :].cost_veh.max(),\n",
    "                                      axis=1)  # assign  total ride costs in rm table\n",
    "    rides['total_group_cost'] = rides['costs_total']  # seems repetition of costs total\n",
    "    rides['cost_efficiency'] = rides['total_group_cost'] / rides.degree  # total cost per rider\n",
    "\n",
    "    rm['cost_efficiency'] = rm['total_group_cost'] / rm.degree\n",
    "\n",
    "    # cost of a single ride for a user\n",
    "    rm['cost_single'] = rm.apply(\n",
    "        lambda r: rm[(rm.traveller == r.traveller) & (rm.shared == False)]['total_group_cost'].max(), axis=1)\n",
    "\n",
    "    rm['total_singles'] = rm.apply(lambda r: rm.loc[r.ride, :].cost_single.sum(), axis=1)  # costs of single rides per\n",
    "    # group\n",
    "    rides['total_singles'] = rm.groupby('ride').sum()['cost_single']  # total single ride costs per ride\n",
    "    rides['residual'] = rides['costs_total'] - rides['total_singles']  # residual, for some pricing algos\n",
    "    rm['residual_user'] = rm.apply(lambda r: rides.loc[r.ride].residual, axis=1)\n",
    "\n",
    "    inData.sblts.rides_multi_index = rm  # store back results\n",
    "    inData.sblts.rides = rides\n",
    "\n",
    "    return inData\n",
    "inData = update_costs(inData, params)"
   ]
  },
  {
   "cell_type": "code",
   "execution_count": 12,
   "metadata": {},
   "outputs": [],
   "source": [
    "PRICINGS = dict()  # pricings to apply and their names\n",
    "PRICINGS['SUBGROUP'] = pricings.subgroup_split\n",
    "for PRICING, pricing in PRICINGS.items():\n",
    "    inData = pricing(inData)  # apply pricing strategy"
   ]
  },
  {
   "cell_type": "markdown",
   "metadata": {},
   "source": [
    "### RSIE \n",
    "\n",
    "two *unstable* groups cannot be together in the solution \n",
    "\n",
    "if anyone from $G1$ wants to join $G2$ and it is better for the moving traveller and group accepting him."
   ]
  },
  {
   "cell_type": "code",
   "execution_count": 10,
   "metadata": {},
   "outputs": [],
   "source": [
    "inData = prunings.algo_EXMAS(inData, price_column='EXTERNALITY')  # apply pruning strategies for a given pricing strategy"
   ]
  },
  {
   "cell_type": "code",
   "execution_count": 11,
   "metadata": {},
   "outputs": [
    {
     "name": "stdout",
     "output_type": "stream",
     "text": [
      "08-04-21 12:23:52-WARNING-Prunings:  ['EXMAS']\n",
      "08-04-21 12:23:52-WARNING-Pruned nRides 894/894\n",
      "08-04-21 12:23:52-WARNING-Mutually exclusives 0\n",
      "08-04-21 12:23:52-WARNING-Experiment-debug_Pricing-EXTERNALITY_Objective-['total_group_cost']_Pruning-['EXMAS']_minmax-min\n"
     ]
    }
   ],
   "source": [
    "inData = pipeline.single_eval(inData, params,\n",
    "                     MATCHING_OBJS = ['total_group_cost'],  # this can be more\n",
    "                     PRUNINGS = ['EXMAS'],  # and this can be more\n",
    "                     PRICING = 'EXTERNALITY',  # this is taken from first level loop\n",
    "                     minmax = ['min'], EXPERIMENT_NAME = 'debug', store_res = False)  # direction BPoA, WPoAplot_im(inData)"
   ]
  },
  {
   "cell_type": "code",
   "execution_count": 12,
   "metadata": {},
   "outputs": [],
   "source": [
    "ExMAS_matching = inData.sblts.rides.selected.to_frame().copy()\n",
    "ExMAS_matching = ExMAS_matching[ExMAS_matching.selected==1]\n",
    "selecteds = ExMAS_matching.index"
   ]
  },
  {
   "cell_type": "code",
   "execution_count": 13,
   "metadata": {},
   "outputs": [
    {
     "name": "stdout",
     "output_type": "stream",
     "text": [
      "08-04-21 12:23:54-WARNING-Searching unstable pairs 0/894. 0 found so far\n",
      "08-04-21 12:24:26-WARNING-Searching unstable pairs 20/894. 736 found so far\n",
      "08-04-21 12:24:59-WARNING-Searching unstable pairs 40/894. 1412 found so far\n",
      "08-04-21 12:25:35-WARNING-Searching unstable pairs 60/894. 2449 found so far\n",
      "08-04-21 12:26:13-WARNING-Searching unstable pairs 80/894. 3476 found so far\n",
      "08-04-21 12:26:52-WARNING-Searching unstable pairs 100/894. 4154 found so far\n",
      "08-04-21 12:27:18-WARNING-Searching unstable pairs 120/894. 4228 found so far\n",
      "08-04-21 12:27:44-WARNING-Searching unstable pairs 140/894. 4228 found so far\n",
      "08-04-21 12:28:12-WARNING-Searching unstable pairs 160/894. 4354 found so far\n",
      "08-04-21 12:28:40-WARNING-Searching unstable pairs 180/894. 4443 found so far\n",
      "08-04-21 12:29:08-WARNING-Searching unstable pairs 200/894. 4590 found so far\n",
      "08-04-21 12:29:33-WARNING-Searching unstable pairs 220/894. 4704 found so far\n",
      "08-04-21 12:30:00-WARNING-Searching unstable pairs 240/894. 4742 found so far\n",
      "08-04-21 12:30:26-WARNING-Searching unstable pairs 260/894. 4818 found so far\n",
      "08-04-21 12:30:51-WARNING-Searching unstable pairs 280/894. 4860 found so far\n",
      "08-04-21 12:31:15-WARNING-Searching unstable pairs 300/894. 4875 found so far\n",
      "08-04-21 12:31:44-WARNING-Searching unstable pairs 320/894. 4969 found so far\n",
      "08-04-21 12:32:12-WARNING-Searching unstable pairs 340/894. 5023 found so far\n",
      "08-04-21 12:32:36-WARNING-Searching unstable pairs 360/894. 5082 found so far\n",
      "08-04-21 12:33:01-WARNING-Searching unstable pairs 380/894. 5194 found so far\n",
      "08-04-21 12:33:27-WARNING-Searching unstable pairs 400/894. 5376 found so far\n",
      "08-04-21 12:33:52-WARNING-Searching unstable pairs 420/894. 5444 found so far\n",
      "08-04-21 12:34:16-WARNING-Searching unstable pairs 440/894. 5615 found so far\n",
      "08-04-21 12:34:42-WARNING-Searching unstable pairs 460/894. 6153 found so far\n",
      "08-04-21 12:35:13-WARNING-Searching unstable pairs 480/894. 6403 found so far\n",
      "08-04-21 12:35:40-WARNING-Searching unstable pairs 500/894. 6527 found so far\n",
      "08-04-21 12:36:08-WARNING-Searching unstable pairs 520/894. 6737 found so far\n",
      "08-04-21 12:36:36-WARNING-Searching unstable pairs 540/894. 7148 found so far\n",
      "08-04-21 12:37:01-WARNING-Searching unstable pairs 560/894. 7148 found so far\n",
      "08-04-21 12:37:24-WARNING-Searching unstable pairs 580/894. 7201 found so far\n",
      "08-04-21 12:37:46-WARNING-Searching unstable pairs 600/894. 7201 found so far\n",
      "08-04-21 12:38:08-WARNING-Searching unstable pairs 620/894. 7223 found so far\n",
      "08-04-21 12:38:29-WARNING-Searching unstable pairs 640/894. 7242 found so far\n",
      "08-04-21 12:38:52-WARNING-Searching unstable pairs 660/894. 7242 found so far\n",
      "08-04-21 12:39:14-WARNING-Searching unstable pairs 680/894. 7336 found so far\n",
      "08-04-21 12:39:34-WARNING-Searching unstable pairs 700/894. 7373 found so far\n",
      "08-04-21 12:39:56-WARNING-Searching unstable pairs 720/894. 7387 found so far\n",
      "08-04-21 12:40:18-WARNING-Searching unstable pairs 740/894. 7409 found so far\n",
      "08-04-21 12:40:40-WARNING-Searching unstable pairs 760/894. 7474 found so far\n",
      "08-04-21 12:44:17-WARNING-Searching unstable pairs 780/894. 7488 found so far\n",
      "08-04-21 12:46:35-WARNING-Searching unstable pairs 800/894. 7534 found so far\n",
      "08-04-21 12:47:49-WARNING-Searching unstable pairs 820/894. 7608 found so far\n",
      "08-04-21 12:48:13-WARNING-Searching unstable pairs 840/894. 7608 found so far\n",
      "08-04-21 12:48:33-WARNING-Searching unstable pairs 860/894. 7608 found so far\n",
      "08-04-21 12:48:52-WARNING-Searching unstable pairs 880/894. 7608 found so far\n"
     ]
    }
   ],
   "source": [
    "inData = prunings.algo_RSIE(inData, price_column='EXTERNALITY')  # apply pruning strategies for a given pricing strategy"
   ]
  },
  {
   "cell_type": "code",
   "execution_count": 14,
   "metadata": {},
   "outputs": [
    {
     "data": {
      "text/plain": [
       "7608"
      ]
     },
     "execution_count": 14,
     "metadata": {},
     "output_type": "execute_result"
    }
   ],
   "source": [
    "len(inData.sblts.mutually_exclusives_RSIE)"
   ]
  },
  {
   "cell_type": "code",
   "execution_count": 18,
   "metadata": {},
   "outputs": [],
   "source": [
    "me = inData.sblts.mutually_exclusives_RSIE\n",
    "for pair in me:\n",
    "    if pair[0] in selecteds and pair[1] in selecteds:\n",
    "        print(pair)\n",
    "        G1 = pair[0]\n",
    "        G2 = pair[1]\n",
    "        break\n"
   ]
  },
  {
   "cell_type": "code",
   "execution_count": 63,
   "metadata": {},
   "outputs": [],
   "source": [
    "_print = True\n",
    "price_column = 'EXTERNALITY'\n",
    "rm = inData.sblts.rides_multi_index  # ride (group) - traveller data\n",
    "rides = inData.sblts.rides  # rides data\n",
    "lsuffix = '_x' # suffixes for merges\n",
    "rsuffix = '_y'\n",
    "unstables = list()  # output - used as mutual exclusive constrain in ILP\n",
    "indexes_set = rides.indexes_set # set of travellers for each ride\n",
    "def are_unstable(G1, G2):\n",
    "    # see if two groups are unstable\n",
    "    for i in indexes_set[G1]:  # examine each i in G1\n",
    "        G2s_with_i = G2s.union({i})  # move i to G2\n",
    "        for r in rides[rides.indexes_set == G2s_with_i].index:  # loop over rides where i joining G2\n",
    "            if rm.loc[r, i][price_column] < rm.loc[G1, i][price_column]:  # condition 1 (i want to join G1)\n",
    "                costs_of_G2_with_i = rm.loc[pd.IndexSlice[r, G2s], :][\n",
    "                    ['traveller', price_column]]  # costs for travellers in G2 with i\n",
    "                compare = pd.merge(costs_of_G2, costs_of_G2_with_i, on=['traveller']) # compare prices\n",
    "                compare['surplus'] = compare[price_column + lsuffix] - compare[price_column + rsuffix] # see which is cheaper\n",
    "                if compare.surplus.min() >= 0: # if no one is better off\n",
    "                    if _print: # debugging only\n",
    "                        print('Group1:', G1, G1s)\n",
    "                        print('Group2:', G2, G2s)\n",
    "                        print('Moving traveller:', i)\n",
    "                        print('Group2 with i:', r, G2s_with_i)\n",
    "                        print('Costs for i in G1:', rm.loc[G1, i][price_column])\n",
    "                        print('Costs for i in G2:', rm.loc[r, i][price_column])\n",
    "                        print('Costs for G2 without i \\n ', costs_of_G2[price_column])\n",
    "                        print('Costs for G2 with i \\n ', costs_of_G2_with_i[price_column])\n",
    "                    return True\n",
    "    return False\n",
    "\n",
    "G2s = indexes_set[G2]  # travellers in G2\n",
    "costs_of_G2 = rm.loc[G2, :][['traveller', price_column]]  # costs of group G2 before joining\n",
    "G1s = indexes_set[G1]  # travellers in G1\n",
    "if indexes_set[G1].isdisjoint(indexes_set[G2]):  # if rides are disjoint\n",
    "    are_unstable(G1, G2)"
   ]
  },
  {
   "cell_type": "code",
   "execution_count": 56,
   "metadata": {},
   "outputs": [
    {
     "data": {
      "text/html": [
       "<div>\n",
       "<style scoped>\n",
       "    .dataframe tbody tr th:only-of-type {\n",
       "        vertical-align: middle;\n",
       "    }\n",
       "\n",
       "    .dataframe tbody tr th {\n",
       "        vertical-align: top;\n",
       "    }\n",
       "\n",
       "    .dataframe thead th {\n",
       "        text-align: right;\n",
       "    }\n",
       "</style>\n",
       "<table border=\"1\" class=\"dataframe\">\n",
       "  <thead>\n",
       "    <tr style=\"text-align: right;\">\n",
       "      <th></th>\n",
       "      <th></th>\n",
       "      <th>ttrav_sh</th>\n",
       "      <th>delay</th>\n",
       "      <th>cost_user</th>\n",
       "      <th>EXTERNALITY</th>\n",
       "    </tr>\n",
       "  </thead>\n",
       "  <tbody>\n",
       "    <tr>\n",
       "      <th rowspan=\"3\" valign=\"top\">834</th>\n",
       "      <th>1</th>\n",
       "      <td>755</td>\n",
       "      <td>31.0</td>\n",
       "      <td>2.80525</td>\n",
       "      <td>4.42435</td>\n",
       "    </tr>\n",
       "    <tr>\n",
       "      <th>49</th>\n",
       "      <td>616</td>\n",
       "      <td>-16.0</td>\n",
       "      <td>2.24000</td>\n",
       "      <td>2.25855</td>\n",
       "    </tr>\n",
       "    <tr>\n",
       "      <th>78</th>\n",
       "      <td>680</td>\n",
       "      <td>-25.0</td>\n",
       "      <td>2.51125</td>\n",
       "      <td>3.66695</td>\n",
       "    </tr>\n",
       "  </tbody>\n",
       "</table>\n",
       "</div>"
      ],
      "text/plain": [
       "        ttrav_sh  delay  cost_user  EXTERNALITY\n",
       "834 1        755   31.0    2.80525      4.42435\n",
       "    49       616  -16.0    2.24000      2.25855\n",
       "    78       680  -25.0    2.51125      3.66695"
      ]
     },
     "execution_count": 56,
     "metadata": {},
     "output_type": "execute_result"
    }
   ],
   "source": [
    "rm[rm.ride == 834][['ttrav_sh','delay','cost_user','EXTERNALITY']]"
   ]
  },
  {
   "cell_type": "code",
   "execution_count": 57,
   "metadata": {},
   "outputs": [
    {
     "data": {
      "text/html": [
       "<div>\n",
       "<style scoped>\n",
       "    .dataframe tbody tr th:only-of-type {\n",
       "        vertical-align: middle;\n",
       "    }\n",
       "\n",
       "    .dataframe tbody tr th {\n",
       "        vertical-align: top;\n",
       "    }\n",
       "\n",
       "    .dataframe thead th {\n",
       "        text-align: right;\n",
       "    }\n",
       "</style>\n",
       "<table border=\"1\" class=\"dataframe\">\n",
       "  <thead>\n",
       "    <tr style=\"text-align: right;\">\n",
       "      <th></th>\n",
       "      <th></th>\n",
       "      <th>ttrav_sh</th>\n",
       "      <th>delay</th>\n",
       "      <th>cost_user</th>\n",
       "      <th>EXTERNALITY</th>\n",
       "    </tr>\n",
       "  </thead>\n",
       "  <tbody>\n",
       "    <tr>\n",
       "      <th>29</th>\n",
       "      <th>29</th>\n",
       "      <td>148</td>\n",
       "      <td>0.0</td>\n",
       "      <td>0.518</td>\n",
       "      <td>1.6914</td>\n",
       "    </tr>\n",
       "  </tbody>\n",
       "</table>\n",
       "</div>"
      ],
      "text/plain": [
       "       ttrav_sh  delay  cost_user  EXTERNALITY\n",
       "29 29       148    0.0      0.518       1.6914"
      ]
     },
     "execution_count": 57,
     "metadata": {},
     "output_type": "execute_result"
    }
   ],
   "source": [
    "rm[rm.ride == 29][['ttrav_sh','delay','cost_user','EXTERNALITY']]"
   ]
  },
  {
   "cell_type": "code",
   "execution_count": 62,
   "metadata": {},
   "outputs": [
    {
     "data": {
      "text/html": [
       "<div>\n",
       "<style scoped>\n",
       "    .dataframe tbody tr th:only-of-type {\n",
       "        vertical-align: middle;\n",
       "    }\n",
       "\n",
       "    .dataframe tbody tr th {\n",
       "        vertical-align: top;\n",
       "    }\n",
       "\n",
       "    .dataframe thead th {\n",
       "        text-align: right;\n",
       "    }\n",
       "</style>\n",
       "<table border=\"1\" class=\"dataframe\">\n",
       "  <thead>\n",
       "    <tr style=\"text-align: right;\">\n",
       "      <th></th>\n",
       "      <th></th>\n",
       "      <th>ttrav_sh</th>\n",
       "      <th>delay</th>\n",
       "      <th>cost_user</th>\n",
       "      <th>EXTERNALITY</th>\n",
       "    </tr>\n",
       "  </thead>\n",
       "  <tbody>\n",
       "    <tr>\n",
       "      <th rowspan=\"2\" valign=\"top\">295</th>\n",
       "      <th>29</th>\n",
       "      <td>178</td>\n",
       "      <td>20.5</td>\n",
       "      <td>0.730625</td>\n",
       "      <td>1.26805</td>\n",
       "    </tr>\n",
       "    <tr>\n",
       "      <th>49</th>\n",
       "      <td>521</td>\n",
       "      <td>-5.5</td>\n",
       "      <td>1.852375</td>\n",
       "      <td>4.05335</td>\n",
       "    </tr>\n",
       "  </tbody>\n",
       "</table>\n",
       "</div>"
      ],
      "text/plain": [
       "        ttrav_sh  delay  cost_user  EXTERNALITY\n",
       "295 29       178   20.5   0.730625      1.26805\n",
       "    49       521   -5.5   1.852375      4.05335"
      ]
     },
     "execution_count": 62,
     "metadata": {},
     "output_type": "execute_result"
    }
   ],
   "source": [
    "rm[rm.ride == 295][['ttrav_sh','delay','cost_user','EXTERNALITY']]"
   ]
  },
  {
   "cell_type": "markdown",
   "metadata": {},
   "source": [
    "---\n",
    "(c) Rafał Kucharski, Delft, 2021"
   ]
  }
 ],
 "metadata": {
  "kernelspec": {
   "display_name": "Python 3",
   "language": "python",
   "name": "python3"
  },
  "language_info": {
   "codemirror_mode": {
    "name": "ipython",
    "version": 3
   },
   "file_extension": ".py",
   "mimetype": "text/x-python",
   "name": "python",
   "nbconvert_exporter": "python",
   "pygments_lexer": "ipython3",
   "version": "3.7.6"
  }
 },
 "nbformat": 4,
 "nbformat_minor": 4
}
