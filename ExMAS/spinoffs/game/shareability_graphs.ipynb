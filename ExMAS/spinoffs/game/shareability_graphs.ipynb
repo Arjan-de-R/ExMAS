{
 "cells": [
  {
   "cell_type": "markdown",
   "metadata": {},
   "source": [
    "## ExMAS\n",
    "> Equilibrium matching\n"
   ]
  },
  {
   "cell_type": "code",
   "execution_count": 1,
   "metadata": {},
   "outputs": [],
   "source": [
    "import os\n",
    "import math\n",
    "import netwulf as nw\n",
    "import seaborn as sns\n",
    "import numpy as np\n",
    "import pandas as pd\n",
    "import matplotlib.pyplot as plt\n",
    "cwd = os.getcwd()\n",
    "%load_ext autoreload\n",
    "%autoreload 2"
   ]
  },
  {
   "cell_type": "code",
   "execution_count": 2,
   "metadata": {},
   "outputs": [],
   "source": [
    "from IPython.display import display\n",
    "pd.options.display.max_columns = None"
   ]
  },
  {
   "cell_type": "code",
   "execution_count": 3,
   "metadata": {},
   "outputs": [],
   "source": [
    "os.chdir(os.path.join(cwd,'../../..'))\n",
    "import ExMAS.main\n",
    "import ExMAS.utils\n",
    "from ExMAS.utils import inData as inData\n",
    "from ExMAS.main import matching\n",
    "from ExMAS.extras import games, pricings, prunings, pipeline"
   ]
  },
  {
   "cell_type": "code",
   "execution_count": 4,
   "metadata": {},
   "outputs": [],
   "source": [
    "netwulf_config_path = os.path.join(os.getcwd(),'spinoff/game/netwulf_config.json')"
   ]
  },
  {
   "cell_type": "code",
   "execution_count": 5,
   "metadata": {},
   "outputs": [],
   "source": [
    "params = ExMAS.utils.get_config('ExMAS/spinoffs/game/pipe.json') # load the default \n",
    "params.t0 = pd.to_datetime(params.t0)\n",
    "params.matching_obj = 'u_pax'\n",
    "inData = ExMAS.utils.load_G(inData, params, stats=True)  # download the graph\n",
    "params.max_detour = 120  # windows\n",
    "params.max_delay = 120  # windows\n",
    "params.nP = 300\n",
    "params.simTime = 0.3\n",
    "params.shared_discount = 0.2\n",
    "inData = ExMAS.utils.generate_demand(inData, params)  # generate requests"
   ]
  },
  {
   "cell_type": "code",
   "execution_count": 6,
   "metadata": {},
   "outputs": [],
   "source": [
    "inData = ExMAS.main(inData, params, plot = False)\n",
    "KPIs = inData.sblts.res.to_frame('u_pax')\n",
    "inData = games.prepare_PoA(inData)  # prepare data structures"
   ]
  },
  {
   "cell_type": "markdown",
   "metadata": {},
   "source": [
    "### pricing\n",
    "\n",
    "eq. 1 , eq.2"
   ]
  },
  {
   "cell_type": "code",
   "execution_count": 7,
   "metadata": {},
   "outputs": [],
   "source": [
    "\n",
    "params.time_cost = params.VoT # travellers' cost per travel time\n",
    "params.wait_cost = params.time_cost*1.5 # and waiting\n",
    "params.sharing_penalty_fixed = 0 # fixed penalty (EUR) per \n",
    "params.sharing_penalty_multiplier = 0 # fixed penalty (EUR) per \n",
    "\n",
    "params.veh_cost = 1.3*params.VoT/params.avg_speed # operating costs per kilometer\n",
    "params.fixed_ride_cost = 0.5 # ride fixed costs (per vehicle)"
   ]
  },
  {
   "cell_type": "code",
   "execution_count": 8,
   "metadata": {},
   "outputs": [],
   "source": [
    "inData.results.rides = inData.sblts.rides.copy()  # copy tables to collect results\n",
    "inData.results.rm = inData.sblts.rides_multi_index.copy()\n",
    "inData.results.KPIs = dict()"
   ]
  },
  {
   "cell_type": "code",
   "execution_count": 9,
   "metadata": {},
   "outputs": [],
   "source": [
    "inData = games.prepare_PoA(inData)\n",
    "inData = ExMAS.extras.pricings.update_costs(inData, params)\n",
    "inData = pricings.externality_split(inData) \n",
    "inData = pricings.uniform_split(inData) \n",
    "inData = pricings.externality_split(inData) \n",
    "inData = pricings.residual_split(inData) \n",
    "inData = pricings.subgroup_split_bas(inData) "
   ]
  },
  {
   "cell_type": "code",
   "execution_count": 10,
   "metadata": {},
   "outputs": [],
   "source": [
    "ALGOS=dict() # algorithms to apply and their names\n",
    "ALGOS['TNE'] = prunings.algo_TNE\n",
    "ALGOS['HERMETIC'] = prunings.algo_HERMETIC\n",
    "ALGOS['RUE'] = prunings.algo_RUE\n",
    "ALGOS['RSIE'] = prunings.algo_RSIE\n",
    "#ALGOS['TSE'] = prunings.algo_TSE"
   ]
  },
  {
   "cell_type": "code",
   "execution_count": 11,
   "metadata": {},
   "outputs": [
    {
     "name": "stdout",
     "output_type": "stream",
     "text": [
      "TNE\n",
      "HERMETIC\n",
      "RUE\n",
      "RSIE\n",
      "01-02-21 16:39:15-WARNING-Searching unstable pairs 0/822. 0 found so far\n",
      "01-02-21 16:39:35-WARNING-Searching unstable pairs 20/822. 24 found so far\n",
      "01-02-21 16:39:56-WARNING-Searching unstable pairs 40/822. 70 found so far\n",
      "01-02-21 16:40:16-WARNING-Searching unstable pairs 60/822. 167 found so far\n",
      "01-02-21 16:40:36-WARNING-Searching unstable pairs 80/822. 232 found so far\n",
      "01-02-21 16:40:56-WARNING-Searching unstable pairs 100/822. 261 found so far\n",
      "01-02-21 16:41:16-WARNING-Searching unstable pairs 120/822. 276 found so far\n",
      "01-02-21 16:41:37-WARNING-Searching unstable pairs 140/822. 380 found so far\n",
      "01-02-21 16:41:57-WARNING-Searching unstable pairs 160/822. 493 found so far\n",
      "01-02-21 16:42:16-WARNING-Searching unstable pairs 180/822. 520 found so far\n",
      "01-02-21 16:42:36-WARNING-Searching unstable pairs 200/822. 616 found so far\n",
      "01-02-21 16:42:56-WARNING-Searching unstable pairs 220/822. 737 found so far\n",
      "01-02-21 16:43:18-WARNING-Searching unstable pairs 240/822. 1051 found so far\n",
      "01-02-21 16:43:38-WARNING-Searching unstable pairs 260/822. 1193 found so far\n",
      "01-02-21 16:43:58-WARNING-Searching unstable pairs 280/822. 1372 found so far\n",
      "01-02-21 16:44:18-WARNING-Searching unstable pairs 300/822. 1430 found so far\n",
      "01-02-21 16:44:37-WARNING-Searching unstable pairs 320/822. 1431 found so far\n",
      "01-02-21 16:44:55-WARNING-Searching unstable pairs 340/822. 1431 found so far\n",
      "01-02-21 16:45:13-WARNING-Searching unstable pairs 360/822. 1433 found so far\n",
      "01-02-21 16:45:32-WARNING-Searching unstable pairs 380/822. 1433 found so far\n",
      "01-02-21 16:45:50-WARNING-Searching unstable pairs 400/822. 1442 found so far\n",
      "01-02-21 16:46:08-WARNING-Searching unstable pairs 420/822. 1442 found so far\n",
      "01-02-21 16:46:26-WARNING-Searching unstable pairs 440/822. 1442 found so far\n",
      "01-02-21 16:46:45-WARNING-Searching unstable pairs 460/822. 1442 found so far\n",
      "01-02-21 16:47:05-WARNING-Searching unstable pairs 480/822. 1453 found so far\n",
      "01-02-21 16:47:26-WARNING-Searching unstable pairs 500/822. 1462 found so far\n",
      "01-02-21 16:47:45-WARNING-Searching unstable pairs 520/822. 1462 found so far\n",
      "01-02-21 16:48:05-WARNING-Searching unstable pairs 540/822. 1470 found so far\n",
      "01-02-21 16:48:24-WARNING-Searching unstable pairs 560/822. 1470 found so far\n",
      "01-02-21 16:48:45-WARNING-Searching unstable pairs 580/822. 1486 found so far\n",
      "01-02-21 16:49:05-WARNING-Searching unstable pairs 600/822. 1511 found so far\n",
      "01-02-21 16:49:25-WARNING-Searching unstable pairs 620/822. 1514 found so far\n",
      "01-02-21 16:49:44-WARNING-Searching unstable pairs 640/822. 1524 found so far\n",
      "01-02-21 16:50:07-WARNING-Searching unstable pairs 660/822. 1535 found so far\n",
      "01-02-21 16:50:26-WARNING-Searching unstable pairs 680/822. 1536 found so far\n",
      "01-02-21 16:50:45-WARNING-Searching unstable pairs 700/822. 1563 found so far\n",
      "01-02-21 16:51:03-WARNING-Searching unstable pairs 720/822. 1566 found so far\n",
      "01-02-21 16:51:22-WARNING-Searching unstable pairs 740/822. 1574 found so far\n",
      "01-02-21 16:51:42-WARNING-Searching unstable pairs 760/822. 1598 found so far\n",
      "01-02-21 16:52:01-WARNING-Searching unstable pairs 780/822. 1624 found so far\n",
      "01-02-21 16:52:18-WARNING-Searching unstable pairs 800/822. 1624 found so far\n",
      "01-02-21 16:52:36-WARNING-Searching unstable pairs 820/822. 1624 found so far\n"
     ]
    }
   ],
   "source": [
    "for ALGO, algorithm in ALGOS.items():\n",
    "    print(ALGO)\n",
    "    inData = algorithm(inData, price_column='UNIFORM')  # apply pruning strategies for a given pricing strategy"
   ]
  },
  {
   "cell_type": "code",
   "execution_count": 12,
   "metadata": {},
   "outputs": [
    {
     "name": "stdout",
     "output_type": "stream",
     "text": [
      "01-02-21 16:52:38-WARNING-Prunings:  ['TNE']\n",
      "01-02-21 16:52:38-WARNING-Pruned nRides 458/822\n",
      "01-02-21 16:52:38-WARNING-Mutually exclusives 0\n",
      "01-02-21 16:52:38-WARNING-UNIFORM-['total_group_cost']-['TNE']-total_group_cost-min\n",
      "01-02-21 16:52:39-WARNING-UNIFORM-['total_group_cost']-['TNE']-total_group_cost-max\n",
      "01-02-21 16:52:40-WARNING-Prunings:  ['HERMETIC']\n",
      "01-02-21 16:52:40-WARNING-Pruned nRides 420/822\n",
      "01-02-21 16:52:40-WARNING-Mutually exclusives 0\n",
      "01-02-21 16:52:40-WARNING-UNIFORM-['total_group_cost']-['HERMETIC']-total_group_cost-min\n",
      "01-02-21 16:52:41-WARNING-UNIFORM-['total_group_cost']-['HERMETIC']-total_group_cost-max\n",
      "01-02-21 16:52:42-WARNING-Prunings:  ['RUE']\n",
      "01-02-21 16:52:42-WARNING-Pruned nRides 822/822\n",
      "01-02-21 16:52:42-WARNING-Mutually exclusives 262\n",
      "01-02-21 16:52:42-WARNING-UNIFORM-['total_group_cost']-['RUE']-total_group_cost-min\n",
      "01-02-21 16:52:44-WARNING-UNIFORM-['total_group_cost']-['RUE']-total_group_cost-max\n",
      "01-02-21 16:52:45-WARNING-Prunings:  ['RSIE']\n",
      "01-02-21 16:52:45-WARNING-Pruned nRides 822/822\n",
      "01-02-21 16:52:45-WARNING-Mutually exclusives 1624\n",
      "01-02-21 16:52:45-WARNING-UNIFORM-['total_group_cost']-['RSIE']-total_group_cost-min\n",
      "01-02-21 16:52:48-WARNING-UNIFORM-['total_group_cost']-['RSIE']-total_group_cost-max\n"
     ]
    }
   ],
   "source": [
    "for ALGO, algorithm in ALGOS.items():  # perform assignment for single prunings\n",
    "    inData = pipeline.single_eval(inData, params,\n",
    "                         MATCHING_OBJS = ['total_group_cost'],  # this can be more\n",
    "                         PRUNINGS = [ALGO],  # and this can be more\n",
    "                         PRICING = 'UNIFORM',  # this is taken from first level loop\n",
    "                         minmax = ('min','max'))  # direction BPoA, WPoA"
   ]
  },
  {
   "cell_type": "code",
   "execution_count": null,
   "metadata": {},
   "outputs": [],
   "source": [
    "inData = pipeline.single_eval_windows(inData, params, None, 'EXMAS', 'WINDOWS')"
   ]
  },
  {
   "cell_type": "code",
   "execution_count": 16,
   "metadata": {},
   "outputs": [
    {
     "name": "stdout",
     "output_type": "stream",
     "text": [
      "TNE\n"
     ]
    },
    {
     "ename": "KeyError",
     "evalue": "'pruned_TNE'",
     "output_type": "error",
     "traceback": [
      "\u001b[0;31m---------------------------------------------------------------------------\u001b[0m",
      "\u001b[0;31mKeyError\u001b[0m                                  Traceback (most recent call last)",
      "\u001b[0;32m~/anaconda3/envs/ExMAS/lib/python3.7/site-packages/pandas/core/indexes/base.py\u001b[0m in \u001b[0;36mget_loc\u001b[0;34m(self, key, method, tolerance)\u001b[0m\n\u001b[1;32m   2645\u001b[0m             \u001b[0;32mtry\u001b[0m\u001b[0;34m:\u001b[0m\u001b[0;34m\u001b[0m\u001b[0;34m\u001b[0m\u001b[0m\n\u001b[0;32m-> 2646\u001b[0;31m                 \u001b[0;32mreturn\u001b[0m \u001b[0mself\u001b[0m\u001b[0;34m.\u001b[0m\u001b[0m_engine\u001b[0m\u001b[0;34m.\u001b[0m\u001b[0mget_loc\u001b[0m\u001b[0;34m(\u001b[0m\u001b[0mkey\u001b[0m\u001b[0;34m)\u001b[0m\u001b[0;34m\u001b[0m\u001b[0;34m\u001b[0m\u001b[0m\n\u001b[0m\u001b[1;32m   2647\u001b[0m             \u001b[0;32mexcept\u001b[0m \u001b[0mKeyError\u001b[0m\u001b[0;34m:\u001b[0m\u001b[0;34m\u001b[0m\u001b[0;34m\u001b[0m\u001b[0m\n",
      "\u001b[0;32mpandas/_libs/index.pyx\u001b[0m in \u001b[0;36mpandas._libs.index.IndexEngine.get_loc\u001b[0;34m()\u001b[0m\n",
      "\u001b[0;32mpandas/_libs/index.pyx\u001b[0m in \u001b[0;36mpandas._libs.index.IndexEngine.get_loc\u001b[0;34m()\u001b[0m\n",
      "\u001b[0;32mpandas/_libs/hashtable_class_helper.pxi\u001b[0m in \u001b[0;36mpandas._libs.hashtable.PyObjectHashTable.get_item\u001b[0;34m()\u001b[0m\n",
      "\u001b[0;32mpandas/_libs/hashtable_class_helper.pxi\u001b[0m in \u001b[0;36mpandas._libs.hashtable.PyObjectHashTable.get_item\u001b[0;34m()\u001b[0m\n",
      "\u001b[0;31mKeyError\u001b[0m: 'pruned_TNE'",
      "\nDuring handling of the above exception, another exception occurred:\n",
      "\u001b[0;31mKeyError\u001b[0m                                  Traceback (most recent call last)",
      "\u001b[0;32m<ipython-input-16-571abdbd7fff>\u001b[0m in \u001b[0;36m<module>\u001b[0;34m\u001b[0m\n\u001b[1;32m      7\u001b[0m     \u001b[0mprint\u001b[0m\u001b[0;34m(\u001b[0m\u001b[0mALGO\u001b[0m\u001b[0;34m)\u001b[0m\u001b[0;34m\u001b[0m\u001b[0;34m\u001b[0m\u001b[0m\n\u001b[1;32m      8\u001b[0m     \u001b[0;31m#if \"pruned_{}\".format(ALGO) in r.columns:\u001b[0m\u001b[0;34m\u001b[0m\u001b[0;34m\u001b[0m\u001b[0;34m\u001b[0m\u001b[0m\n\u001b[0;32m----> 9\u001b[0;31m     \u001b[0mthis_rides\u001b[0m \u001b[0;34m=\u001b[0m \u001b[0mr\u001b[0m\u001b[0;34m[\u001b[0m\u001b[0mr\u001b[0m\u001b[0;34m[\u001b[0m\u001b[0;34m\"pruned_{}\"\u001b[0m\u001b[0;34m.\u001b[0m\u001b[0mformat\u001b[0m\u001b[0;34m(\u001b[0m\u001b[0mALGO\u001b[0m\u001b[0;34m)\u001b[0m\u001b[0;34m]\u001b[0m\u001b[0;34m==\u001b[0m\u001b[0;32mTrue\u001b[0m\u001b[0;34m]\u001b[0m\u001b[0;34m\u001b[0m\u001b[0;34m\u001b[0m\u001b[0m\n\u001b[0m\u001b[1;32m     10\u001b[0m     \u001b[0;31m#else:\u001b[0m\u001b[0;34m\u001b[0m\u001b[0;34m\u001b[0m\u001b[0;34m\u001b[0m\u001b[0m\n\u001b[1;32m     11\u001b[0m     \u001b[0;31m#    this_rides = r\u001b[0m\u001b[0;34m\u001b[0m\u001b[0;34m\u001b[0m\u001b[0;34m\u001b[0m\u001b[0m\n",
      "\u001b[0;32m~/anaconda3/envs/ExMAS/lib/python3.7/site-packages/pandas/core/frame.py\u001b[0m in \u001b[0;36m__getitem__\u001b[0;34m(self, key)\u001b[0m\n\u001b[1;32m   2798\u001b[0m             \u001b[0;32mif\u001b[0m \u001b[0mself\u001b[0m\u001b[0;34m.\u001b[0m\u001b[0mcolumns\u001b[0m\u001b[0;34m.\u001b[0m\u001b[0mnlevels\u001b[0m \u001b[0;34m>\u001b[0m \u001b[0;36m1\u001b[0m\u001b[0;34m:\u001b[0m\u001b[0;34m\u001b[0m\u001b[0;34m\u001b[0m\u001b[0m\n\u001b[1;32m   2799\u001b[0m                 \u001b[0;32mreturn\u001b[0m \u001b[0mself\u001b[0m\u001b[0;34m.\u001b[0m\u001b[0m_getitem_multilevel\u001b[0m\u001b[0;34m(\u001b[0m\u001b[0mkey\u001b[0m\u001b[0;34m)\u001b[0m\u001b[0;34m\u001b[0m\u001b[0;34m\u001b[0m\u001b[0m\n\u001b[0;32m-> 2800\u001b[0;31m             \u001b[0mindexer\u001b[0m \u001b[0;34m=\u001b[0m \u001b[0mself\u001b[0m\u001b[0;34m.\u001b[0m\u001b[0mcolumns\u001b[0m\u001b[0;34m.\u001b[0m\u001b[0mget_loc\u001b[0m\u001b[0;34m(\u001b[0m\u001b[0mkey\u001b[0m\u001b[0;34m)\u001b[0m\u001b[0;34m\u001b[0m\u001b[0;34m\u001b[0m\u001b[0m\n\u001b[0m\u001b[1;32m   2801\u001b[0m             \u001b[0;32mif\u001b[0m \u001b[0mis_integer\u001b[0m\u001b[0;34m(\u001b[0m\u001b[0mindexer\u001b[0m\u001b[0;34m)\u001b[0m\u001b[0;34m:\u001b[0m\u001b[0;34m\u001b[0m\u001b[0;34m\u001b[0m\u001b[0m\n\u001b[1;32m   2802\u001b[0m                 \u001b[0mindexer\u001b[0m \u001b[0;34m=\u001b[0m \u001b[0;34m[\u001b[0m\u001b[0mindexer\u001b[0m\u001b[0;34m]\u001b[0m\u001b[0;34m\u001b[0m\u001b[0;34m\u001b[0m\u001b[0m\n",
      "\u001b[0;32m~/anaconda3/envs/ExMAS/lib/python3.7/site-packages/pandas/core/indexes/base.py\u001b[0m in \u001b[0;36mget_loc\u001b[0;34m(self, key, method, tolerance)\u001b[0m\n\u001b[1;32m   2646\u001b[0m                 \u001b[0;32mreturn\u001b[0m \u001b[0mself\u001b[0m\u001b[0;34m.\u001b[0m\u001b[0m_engine\u001b[0m\u001b[0;34m.\u001b[0m\u001b[0mget_loc\u001b[0m\u001b[0;34m(\u001b[0m\u001b[0mkey\u001b[0m\u001b[0;34m)\u001b[0m\u001b[0;34m\u001b[0m\u001b[0;34m\u001b[0m\u001b[0m\n\u001b[1;32m   2647\u001b[0m             \u001b[0;32mexcept\u001b[0m \u001b[0mKeyError\u001b[0m\u001b[0;34m:\u001b[0m\u001b[0;34m\u001b[0m\u001b[0;34m\u001b[0m\u001b[0m\n\u001b[0;32m-> 2648\u001b[0;31m                 \u001b[0;32mreturn\u001b[0m \u001b[0mself\u001b[0m\u001b[0;34m.\u001b[0m\u001b[0m_engine\u001b[0m\u001b[0;34m.\u001b[0m\u001b[0mget_loc\u001b[0m\u001b[0;34m(\u001b[0m\u001b[0mself\u001b[0m\u001b[0;34m.\u001b[0m\u001b[0m_maybe_cast_indexer\u001b[0m\u001b[0;34m(\u001b[0m\u001b[0mkey\u001b[0m\u001b[0;34m)\u001b[0m\u001b[0;34m)\u001b[0m\u001b[0;34m\u001b[0m\u001b[0;34m\u001b[0m\u001b[0m\n\u001b[0m\u001b[1;32m   2649\u001b[0m         \u001b[0mindexer\u001b[0m \u001b[0;34m=\u001b[0m \u001b[0mself\u001b[0m\u001b[0;34m.\u001b[0m\u001b[0mget_indexer\u001b[0m\u001b[0;34m(\u001b[0m\u001b[0;34m[\u001b[0m\u001b[0mkey\u001b[0m\u001b[0;34m]\u001b[0m\u001b[0;34m,\u001b[0m \u001b[0mmethod\u001b[0m\u001b[0;34m=\u001b[0m\u001b[0mmethod\u001b[0m\u001b[0;34m,\u001b[0m \u001b[0mtolerance\u001b[0m\u001b[0;34m=\u001b[0m\u001b[0mtolerance\u001b[0m\u001b[0;34m)\u001b[0m\u001b[0;34m\u001b[0m\u001b[0;34m\u001b[0m\u001b[0m\n\u001b[1;32m   2650\u001b[0m         \u001b[0;32mif\u001b[0m \u001b[0mindexer\u001b[0m\u001b[0;34m.\u001b[0m\u001b[0mndim\u001b[0m \u001b[0;34m>\u001b[0m \u001b[0;36m1\u001b[0m \u001b[0;32mor\u001b[0m \u001b[0mindexer\u001b[0m\u001b[0;34m.\u001b[0m\u001b[0msize\u001b[0m \u001b[0;34m>\u001b[0m \u001b[0;36m1\u001b[0m\u001b[0;34m:\u001b[0m\u001b[0;34m\u001b[0m\u001b[0;34m\u001b[0m\u001b[0m\n",
      "\u001b[0;32mpandas/_libs/index.pyx\u001b[0m in \u001b[0;36mpandas._libs.index.IndexEngine.get_loc\u001b[0;34m()\u001b[0m\n",
      "\u001b[0;32mpandas/_libs/index.pyx\u001b[0m in \u001b[0;36mpandas._libs.index.IndexEngine.get_loc\u001b[0;34m()\u001b[0m\n",
      "\u001b[0;32mpandas/_libs/hashtable_class_helper.pxi\u001b[0m in \u001b[0;36mpandas._libs.hashtable.PyObjectHashTable.get_item\u001b[0;34m()\u001b[0m\n",
      "\u001b[0;32mpandas/_libs/hashtable_class_helper.pxi\u001b[0m in \u001b[0;36mpandas._libs.hashtable.PyObjectHashTable.get_item\u001b[0;34m()\u001b[0m\n",
      "\u001b[0;31mKeyError\u001b[0m: 'pruned_TNE'"
     ]
    },
    {
     "data": {
      "image/png": "[encoded data removed]",
      "text/plain": [
       "<Figure size 720x2880 with 8 Axes>"
      ]
     },
     "metadata": {
      "needs_background": "light"
     },
     "output_type": "display_data"
    }
   ],
   "source": [
    "r = inData.results.rides\n",
    "_, config, _ = nw.load(\"netwulf_config.json\") # load config\n",
    "_, config_schedule, _ = nw.load(\"netwulf_config_schedule.json\") # load config\n",
    "fig, axes = plt.subplots(2,4, figsize = (10,40))\n",
    "i=0\n",
    "for ALGO, algorithm in ALGOS.items():  # perform assignment for single prunings\n",
    "    print(ALGO)\n",
    "    if \"pruned_{}\".format(ALGO) in r.columns:\n",
    "        this_rides = r[r[\"pruned_{}\".format(ALGO)]==True]\n",
    "    else:\n",
    "        this_rides = r\n",
    "    G = ExMAS.utils.make_shareability_graph(inData.sblts.requests, this_rides)\n",
    "    f, _ = nw.visualize(G, config = config_schedule,  plot_in_cell_below=False)\n",
    "    _, _ = nw.draw_netwulf(f, fig = fig, ax = axes[0][i])\n",
    "    this_schedule = r[r[\"UNIFORM-['total_group_cost']-['{}']-total_group_cost-min\".format(ALGO)]==True]\n",
    "    G = ExMAS.utils.make_shareability_graph(inData.sblts.requests, this_schedule)\n",
    "    f, _ = nw.visualize(G, config = config_schedule,  plot_in_cell_below=False)\n",
    "    _, _ = nw.draw_netwulf(f, fig = fig, ax = axes[1][i])\n",
    "    i+=1\n",
    "    "
   ]
  },
  {
   "cell_type": "markdown",
   "metadata": {},
   "source": [
    "### ExMAS \n",
    "\n",
    "\n",
    "two graphs for each algorithm: \n",
    "* first shareability potential groups\n",
    "* then assignment, ILP solution for BPoA\n",
    "\n",
    "nodes are travellers, links if they form a group, size is the degree (number of rides in which you may participate)"
   ]
  },
  {
   "cell_type": "code",
   "execution_count": null,
   "metadata": {},
   "outputs": [],
   "source": [
    "import matplotlib.pyplot as plt\n",
    "fig, axes = plt.subplots(2,5)\n",
    "_, _ = nw.visualize(G, config = config_schedule)\n",
    "_, _ = nw.draw_netwulf(network_1, fig = fig, ax = axes[1][0])\n",
    "_, _ = nw.draw_netwulf(network_windows, fig = fig, ax = axes[0])\n"
   ]
  },
  {
   "cell_type": "code",
   "execution_count": 42,
   "metadata": {},
   "outputs": [],
   "source": [
    "G = ExMAS.utils.make_shareability_graph(inData.sblts.requests, inData.sblts.schedule)\n",
    "stylized_network, config_schedule = nw.visualize(G, config = config_schedule)  # create config\n",
    "#nw.save(\"netwulf_config_schedule.json\", stylized_network, config_schedule) # save config\n",
    "#_, _ = nw.visualize(G, config = config_schedule)"
   ]
  },
  {
   "cell_type": "markdown",
   "metadata": {},
   "source": [
    "### TNE \n"
   ]
  },
  {
   "cell_type": "code",
   "execution_count": null,
   "metadata": {},
   "outputs": [],
   "source": [
    "params.multi_platform_matching = True\n",
    "params.assign_ride_platforms = False\n",
    "inData = prunings.algo_TNE(inData, price_column='UNIFORM')  # apply pruning strategies for a given pricing strategy\n",
    "inData = pipeline.single_eval(inData, params,\n",
    "                     MATCHING_OBJS = ['UNIFORM'],  # this can be more\n",
    "                     PRUNINGS = ['TNE'],  # and this can be more\n",
    "                     PRICING = 'UNIFORM',  # this is taken from first level loop\n",
    "                     minmax = ['min'], store_res = False)  # direction BPoA, WPoA\n",
    "G = ExMAS.utils.make_shareability_graph(inData.sblts.requests, inData.sblts.rides[inData.sblts.rides.pruned])\n",
    "_, _ = nw.visualize(G, config = config)"
   ]
  },
  {
   "cell_type": "code",
   "execution_count": null,
   "metadata": {},
   "outputs": [],
   "source": [
    "G = ExMAS.utils.make_shareability_graph(inData.sblts.requests, inData.sblts.schedule)\n",
    "_, _ = nw.visualize(G, config = config_schedule)"
   ]
  },
  {
   "cell_type": "code",
   "execution_count": null,
   "metadata": {},
   "outputs": [],
   "source": [
    "params.multi_platform_matching = True\n",
    "params.assign_ride_platforms = False\n",
    "inData = prunings.algo_HERMETIC(inData, price_column='UNIFORM')  # apply pruning strategies for a given pricing strategy\n",
    "inData = pipeline.single_eval(inData, params,\n",
    "                     MATCHING_OBJS = ['UNIFORM'],  # this can be more\n",
    "                     PRUNINGS = ['HERMETIC'],  # and this can be more\n",
    "                     PRICING = 'UNIFORM',  # this is taken from first level loop\n",
    "                     minmax = ['min'], store_res = False)  # direction BPoA, WPoA\n",
    "G = ExMAS.utils.make_shareability_graph(inData.sblts.requests, inData.sblts.rides[inData.sblts.rides.pruned])\n",
    "_, _ = nw.visualize(G, config = config)"
   ]
  },
  {
   "cell_type": "code",
   "execution_count": null,
   "metadata": {},
   "outputs": [],
   "source": [
    "G = ExMAS.utils.make_shareability_graph(inData.sblts.requests, inData.sblts.schedule)\n",
    "_, _ = nw.visualize(G, config = config_schedule)"
   ]
  },
  {
   "cell_type": "markdown",
   "metadata": {},
   "source": [
    "---\n",
    "(c) Rafał Kucharski, Delft, 2020"
   ]
  }
 ],
 "metadata": {
  "kernelspec": {
   "display_name": "Python 3",
   "language": "python",
   "name": "python3"
  },
  "language_info": {
   "codemirror_mode": {
    "name": "ipython",
    "version": 3
   },
   "file_extension": ".py",
   "mimetype": "text/x-python",
   "name": "python",
   "nbconvert_exporter": "python",
   "pygments_lexer": "ipython3",
   "version": "3.7.6"
  }
 },
 "nbformat": 4,
 "nbformat_minor": 4
}
