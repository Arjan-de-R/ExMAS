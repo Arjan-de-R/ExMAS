{
 "cells": [
  {
   "cell_type": "markdown",
   "metadata": {},
   "source": [
    "## ExMAS\n",
    "> Exact Matching of Attractive Shared rides (ExMAS) for system-wide strategic evaluations\n",
    "> \n",
    "> Kucharski R., Cats O. ,_Transportation Research Part: B_, 2020\n",
    "\n",
    "---\n",
    "#### Bigger demand level\n",
    "\n",
    "3000 trips in Delft (67 000 feasible shared rides, 9 000 000 theoreticallly possible trip pairs)"
   ]
  },
  {
   "cell_type": "code",
   "execution_count": 1,
   "metadata": {},
   "outputs": [],
   "source": [
    "import os\n",
    "cwd = os.getcwd()"
   ]
  },
  {
   "cell_type": "code",
   "execution_count": 2,
   "metadata": {},
   "outputs": [],
   "source": [
    "os.chdir(os.path.join(cwd,'../..'))\n",
    "import ExMAS.main\n",
    "import ExMAS.utils"
   ]
  },
  {
   "cell_type": "code",
   "execution_count": 3,
   "metadata": {},
   "outputs": [],
   "source": [
    "from ExMAS.utils import inData as inData"
   ]
  },
  {
   "cell_type": "markdown",
   "metadata": {},
   "source": [
    "### prepare"
   ]
  },
  {
   "cell_type": "markdown",
   "metadata": {},
   "source": [
    "1. __load the default config__ (see more details in `ExMAS/notebooks/01 configuration.ipynb`)"
   ]
  },
  {
   "cell_type": "code",
   "execution_count": 4,
   "metadata": {},
   "outputs": [],
   "source": [
    "params = ExMAS.utils.get_config('ExMAS/data/configs/default.json') # load the default \n",
    "params.nP = 3000\n",
    "params.simTime = 4"
   ]
  },
  {
   "cell_type": "markdown",
   "metadata": {},
   "source": [
    "2. __load the network__ (see more details in `ExMAS/notebooks/02 NetworkGraphs.ipynb`)"
   ]
  },
  {
   "cell_type": "code",
   "execution_count": 5,
   "metadata": {},
   "outputs": [],
   "source": [
    "inData = ExMAS.utils.load_G(inData, params, stats=True)  # download the graph"
   ]
  },
  {
   "cell_type": "markdown",
   "metadata": {},
   "source": [
    "3. __generate trip requests__ (see more details in `ExMAS/notebooks/02 NetworkGraphs.ipynb`)"
   ]
  },
  {
   "cell_type": "code",
   "execution_count": 6,
   "metadata": {},
   "outputs": [],
   "source": [
    "inData = ExMAS.utils.generate_demand(inData, params)"
   ]
  },
  {
   "cell_type": "markdown",
   "metadata": {},
   "source": [
    "### run"
   ]
  },
  {
   "cell_type": "code",
   "execution_count": null,
   "metadata": {},
   "outputs": [
    {
     "name": "stdout",
     "output_type": "stream",
     "text": [
      "03-07-20 14:07:27-INFO-Initializing pairwise trip shareability between 3000 and 3000 trips.\n",
      "03-07-20 14:07:27-INFO-creating combinations\n",
      "03-07-20 14:07:43-INFO-8997000\t nR*(nR-1)\n",
      "03-07-20 14:09:31-INFO-Reduction of feasible pairs by 99.86%\n",
      "03-07-20 14:09:31-INFO-Degree 2 \tCompleted\n",
      "03-07-20 14:09:32-INFO-trips to extend at degree 2 : 33758\n",
      "03-07-20 14:11:24-INFO-At degree 2 feasible extensions found out of 15661 searched\n",
      "03-07-20 14:11:24-INFO-Degree 3 \tCompleted\n",
      "03-07-20 14:11:24-INFO-trips to extend at degree 3 : 15661\n"
     ]
    }
   ],
   "source": [
    "inData = ExMAS.main(inData, params)"
   ]
  },
  {
   "cell_type": "markdown",
   "metadata": {},
   "source": [
    "### results:\n",
    "KPIs"
   ]
  },
  {
   "cell_type": "code",
   "execution_count": null,
   "metadata": {},
   "outputs": [],
   "source": [
    "KPIs = inData.sblts.res.to_frame()\n",
    "KPIs['description']  = ExMAS.utils.KPIs_descriptions\n",
    "KPIs.columns = ['KPI', 'description']\n",
    "KPIs"
   ]
  },
  {
   "cell_type": "markdown",
   "metadata": {},
   "source": [
    " all feasible rides"
   ]
  },
  {
   "cell_type": "code",
   "execution_count": null,
   "metadata": {},
   "outputs": [],
   "source": [
    "inData.sblts.rides.sample(5)"
   ]
  },
  {
   "cell_type": "markdown",
   "metadata": {},
   "source": [
    "selected rides in the solution"
   ]
  },
  {
   "cell_type": "code",
   "execution_count": null,
   "metadata": {},
   "outputs": [],
   "source": [
    "inData.sblts.schedule.sample(5)"
   ]
  },
  {
   "cell_type": "markdown",
   "metadata": {},
   "source": [
    "trips with parameters of the shared ride"
   ]
  },
  {
   "cell_type": "code",
   "execution_count": null,
   "metadata": {},
   "outputs": [],
   "source": [
    "inData.sblts.requests.sample(5)"
   ]
  },
  {
   "cell_type": "markdown",
   "metadata": {},
   "source": [
    "---\n",
    "(c) Rafał Kucharski, Delft, 2020"
   ]
  }
 ],
 "metadata": {
  "kernelspec": {
   "display_name": "Python 3",
   "language": "python",
   "name": "python3"
  },
  "language_info": {
   "codemirror_mode": {
    "name": "ipython",
    "version": 3
   },
   "file_extension": ".py",
   "mimetype": "text/x-python",
   "name": "python",
   "nbconvert_exporter": "python",
   "pygments_lexer": "ipython3",
   "version": "3.7.6"
  }
 },
 "nbformat": 4,
 "nbformat_minor": 4
}
