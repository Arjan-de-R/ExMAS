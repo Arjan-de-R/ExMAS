{
 "cells": [
  {
   "cell_type": "markdown",
   "metadata": {},
   "source": [
    "## ExMAS\n",
    "> Exact Matching of Attractive Shared rides (ExMAS) for system-wide strategic evaluations\n",
    "> \n",
    "> Kucharski R., Cats O. ,_Transportation Research Part: B_, 2020\n",
    "\n",
    "---\n",
    "#### Parallel experiments\n",
    "\n",
    "Explore the search space of hyperparameters with parallel multiple runs of ExMAS\n",
    "\n",
    "Merge the results into single DataFrame and visualize"
   ]
  },
  {
   "cell_type": "code",
   "execution_count": null,
   "metadata": {},
   "outputs": [],
   "source": [
    "import os\n",
    "cwd = os.getcwd()"
   ]
  },
  {
   "cell_type": "code",
   "execution_count": 2,
   "metadata": {},
   "outputs": [],
   "source": [
    "os.chdir(os.path.join(cwd,'../..'))\n",
    "import ExMAS.main\n",
    "import ExMAS.utils"
   ]
  },
  {
   "cell_type": "code",
   "execution_count": 3,
   "metadata": {},
   "outputs": [],
   "source": [
    "from ExMAS.utils import inData as inData"
   ]
  },
  {
   "cell_type": "code",
   "execution_count": 4,
   "metadata": {},
   "outputs": [],
   "source": [
    "from ExMAS.experiments import experiment\n",
    "from dotmap import DotMap"
   ]
  },
  {
   "cell_type": "markdown",
   "metadata": {},
   "source": [
    "### create the search space"
   ]
  },
  {
   "cell_type": "code",
   "execution_count": 5,
   "metadata": {},
   "outputs": [],
   "source": [
    "def my_search_space():\n",
    "    # sspace to explore\n",
    "    full_space = DotMap()\n",
    "    full_space.nP = [100, 200, 300, 400]\n",
    "    full_space.shared_discount = [0.2, 0.25, 0.3]\n",
    "    full_space.horizon = [60, 300,  1200, -1]\n",
    "    return full_space"
   ]
  },
  {
   "cell_type": "markdown",
   "metadata": {},
   "source": [
    "### run"
   ]
  },
  {
   "cell_type": "code",
   "execution_count": 6,
   "metadata": {},
   "outputs": [
    {
     "name": "stdout",
     "output_type": "stream",
     "text": [
      "Help on function experiment in module ExMAS.experiments:\n",
      "\n",
      "experiment(space=None, config='ExMAS/data/configs/default.json', workers=-1, replications=1)\n",
      "    Explores the search space `space` starting from base configuration from `config` using `workers` parallel threads`\n",
      "    :param space:\n",
      "    :param config:\n",
      "    :param workers:\n",
      "    :param replications:\n",
      "    :return: set of csvs in 'data/results`\n",
      "\n"
     ]
    }
   ],
   "source": [
    "help(experiment)"
   ]
  },
  {
   "cell_type": "code",
   "execution_count": 7,
   "metadata": {},
   "outputs": [
    {
     "name": "stdout",
     "output_type": "stream",
     "text": [
      "Search space to explore of dimensions [4, 3, 4] and total size of 48\n",
      "city_Delft_Netherlands_nP_100_shareddiscount_02_horizon_60_dt_0_days_000001369788_searchspace_215 2020-07-03 14:09:19.560322 done\n",
      "city_Delft_Netherlands_nP_100_shareddiscount_02_horizon_1_dt_0_days_000002181908_searchspace_302 2020-07-03 14:09:20.536465 done\n",
      "city_Delft_Netherlands_nP_100_shareddiscount_02_horizon_300_dt_0_days_000001366986_searchspace_247 2020-07-03 14:09:21.159906 done\n",
      "city_Delft_Netherlands_nP_100_shareddiscount_025_horizon_60_dt_0_days_000000900450_searchspace_228 2020-07-03 14:09:21.696792 done\n",
      "city_Delft_Netherlands_nP_100_shareddiscount_025_horizon_1200_dt_0_days_000003226893_searchspace_487 2020-07-03 14:09:21.774173 done\n",
      "city_Delft_Netherlands_nP_100_shareddiscount_03_horizon_300_dt_0_days_000003210166_searchspace_568 2020-07-03 14:09:21.988231 done\n",
      "city_Delft_Netherlands_nP_100_shareddiscount_02_horizon_1200_dt_0_days_000001618083_searchspace_281 2020-07-03 14:09:23.045334 done\n",
      "city_Delft_Netherlands_nP_100_shareddiscount_025_horizon_300_dt_0_days_000001733066_searchspace_355 2020-07-03 14:09:23.656207 done\n",
      "city_Delft_Netherlands_nP_200_shareddiscount_02_horizon_60_dt_0_days_000000930469_searchspace_209 2020-07-03 14:09:24.307909 done\n",
      "city_Delft_Netherlands_nP_100_shareddiscount_025_horizon_1_dt_0_days_000002434828_searchspace_443 2020-07-03 14:09:24.457657 done\n",
      "city_Delft_Netherlands_nP_200_shareddiscount_02_horizon_300_dt_0_days_000001417091_searchspace_247 2020-07-03 14:09:25.923086 done\n",
      "city_Delft_Netherlands_nP_200_shareddiscount_02_horizon_1_dt_0_days_000001953992_searchspace_284 2020-07-03 14:09:26.049847city_Delft_Netherlands_nP_100_shareddiscount_03_horizon_60_dt_0_days_000001401018_searchspace_252  done2020-07-03 14:09:26.053382\n",
      " done\n",
      "city_Delft_Netherlands_nP_100_shareddiscount_03_horizon_1200_dt_0_days_000004444935_searchspace_734 2020-07-03 14:09:26.698734 done\n",
      "city_Delft_Netherlands_nP_200_shareddiscount_025_horizon_60_dt_0_days_000001260910_searchspace_222 2020-07-03 14:09:27.635580 done\n",
      "city_Delft_Netherlands_nP_200_shareddiscount_02_horizon_1200_dt_0_days_000002458632_searchspace_303 2020-07-03 14:09:28.770373 done\n",
      "city_Delft_Netherlands_nP_200_shareddiscount_025_horizon_300_dt_0_days_000002111097_searchspace_359 2020-07-03 14:09:29.980134 done\n",
      "city_Delft_Netherlands_nP_200_shareddiscount_025_horizon_1200_dt_0_days_000003487771_searchspace_465 2020-07-03 14:09:30.105152 done\n",
      "city_Delft_Netherlands_nP_300_shareddiscount_02_horizon_60_dt_0_days_000000703737_searchspace_210 2020-07-03 14:09:31.184033 done\n",
      "city_Delft_Netherlands_nP_100_shareddiscount_03_horizon_1_dt_0_days_000004645040_searchspace_745 2020-07-03 14:09:31.718979 done\n",
      "city_Delft_Netherlands_nP_200_shareddiscount_03_horizon_300_dt_0_days_000002822274_searchspace_529 2020-07-03 14:09:32.058277 done\n",
      "city_Delft_Netherlands_nP_300_shareddiscount_02_horizon_300_dt_0_days_000001488392_searchspace_274 2020-07-03 14:09:32.878266 done\n",
      "city_Delft_Netherlands_nP_200_shareddiscount_025_horizon_1_dt_0_days_000003025833_searchspace_502 2020-07-03 14:09:33.404985 done\n",
      "city_Delft_Netherlands_nP_300_shareddiscount_02_horizon_1_dt_0_days_000001691453_searchspace_273 2020-07-03 14:09:33.882440 done\n",
      "city_Delft_Netherlands_nP_300_shareddiscount_02_horizon_1200_dt_0_days_000001698750_searchspace_294 2020-07-03 14:09:34.822828 done\n",
      "city_Delft_Netherlands_nP_200_shareddiscount_03_horizon_60_dt_0_days_000001260146_searchspace_267 2020-07-03 14:09:34.909793 done\n",
      "city_Delft_Netherlands_nP_300_shareddiscount_025_horizon_60_dt_0_days_000000920016_searchspace_227 2020-07-03 14:09:34.984614 done\n",
      "city_Delft_Netherlands_nP_200_shareddiscount_03_horizon_1200_dt_0_days_000004512457_searchspace_793 2020-07-03 14:09:36.818397 done\n",
      "city_Delft_Netherlands_nP_300_shareddiscount_025_horizon_300_dt_0_days_000001742082_searchspace_346 2020-07-03 14:09:36.946074 done\n",
      "city_Delft_Netherlands_nP_400_shareddiscount_02_horizon_60_dt_0_days_000000708550_searchspace_217 2020-07-03 14:09:38.019324 done\n",
      "city_Delft_Netherlands_nP_300_shareddiscount_025_horizon_1200_dt_0_days_000002766538_searchspace_530 2020-07-03 14:09:38.069688 done\n",
      "city_Delft_Netherlands_nP_300_shareddiscount_03_horizon_300_dt_0_days_000002704194_searchspace_576 2020-07-03 14:09:38.103487 done\n",
      "city_Delft_Netherlands_nP_400_shareddiscount_02_horizon_300_dt_0_days_000001371100_searchspace_266 2020-07-03 14:09:39.596314 done\n",
      "city_Delft_Netherlands_nP_300_shareddiscount_025_horizon_1_dt_0_days_000002718160_searchspace_519 2020-07-03 14:09:41.040445 done\n",
      "city_Delft_Netherlands_nP_400_shareddiscount_02_horizon_1200_dt_0_days_000001552469_searchspace_288 2020-07-03 14:09:41.388469 done\n",
      "city_Delft_Netherlands_nP_200_shareddiscount_03_horizon_1_dt_0_days_000004824189_searchspace_931 2020-07-03 14:09:41.843978 done\n",
      "city_Delft_Netherlands_nP_300_shareddiscount_03_horizon_60_dt_0_days_000001192844_searchspace_258 2020-07-03 14:09:42.529406 done\n",
      "city_Delft_Netherlands_nP_300_shareddiscount_03_horizon_1200_dt_0_days_000004648785_searchspace_877 2020-07-03 14:09:42.979745 done\n",
      "city_Delft_Netherlands_nP_400_shareddiscount_02_horizon_1_dt_0_days_000001874197_searchspace_309 2020-07-03 14:09:43.713098 done\n",
      "city_Delft_Netherlands_nP_400_shareddiscount_025_horizon_1200_dt_0_days_000002549772_searchspace_442 2020-07-03 14:09:44.766465 done\n",
      "city_Delft_Netherlands_nP_400_shareddiscount_025_horizon_60_dt_0_days_000001146479_searchspace_231 2020-07-03 14:09:45.125129 done\n",
      "city_Delft_Netherlands_nP_400_shareddiscount_03_horizon_300_dt_0_days_000002238262_searchspace_465 2020-07-03 14:09:45.223673 done\n",
      "city_Delft_Netherlands_nP_400_shareddiscount_025_horizon_300_dt_0_days_000001915091_searchspace_365 2020-07-03 14:09:47.291700 done\n",
      "city_Delft_Netherlands_nP_400_shareddiscount_025_horizon_1_dt_0_days_000002556774_searchspace_460 2020-07-03 14:09:47.518817 done\n",
      "city_Delft_Netherlands_nP_300_shareddiscount_03_horizon_1_dt_0_days_000005061730_searchspace_925 2020-07-03 14:09:48.288317 done\n",
      "city_Delft_Netherlands_nP_400_shareddiscount_03_horizon_60_dt_0_days_000000990955_searchspace_271 2020-07-03 14:09:48.693775 done\n",
      "city_Delft_Netherlands_nP_400_shareddiscount_03_horizon_1200_dt_0_days_000004529631_searchspace_954 2020-07-03 14:09:49.991217 done\n",
      "city_Delft_Netherlands_nP_400_shareddiscount_03_horizon_1_dt_0_days_000004026906_searchspace_906 2020-07-03 14:09:54.200219 done\n"
     ]
    }
   ],
   "source": [
    "experiment(space=my_search_space(), config = 'ExMAS/data/configs/default.json', workers = 4) # explores the search space"
   ]
  },
  {
   "cell_type": "markdown",
   "metadata": {},
   "source": [
    "### process the results:"
   ]
  },
  {
   "cell_type": "code",
   "execution_count": 8,
   "metadata": {},
   "outputs": [
    {
     "ename": "NameError",
     "evalue": "name 'ExMAS_utils' is not defined",
     "output_type": "error",
     "traceback": [
      "\u001b[0;31m---------------------------------------------------------------------------\u001b[0m",
      "\u001b[0;31mNameError\u001b[0m                                 Traceback (most recent call last)",
      "\u001b[0;32m<ipython-input-8-9638590f7243>\u001b[0m in \u001b[0;36m<module>\u001b[0;34m\u001b[0m\n\u001b[0;32m----> 1\u001b[0;31m \u001b[0mresults\u001b[0m \u001b[0;34m=\u001b[0m \u001b[0mExMAS_utils\u001b[0m\u001b[0;34m.\u001b[0m\u001b[0mmerge_csvs\u001b[0m\u001b[0;34m(\u001b[0m\u001b[0;32mNone\u001b[0m\u001b[0;34m,\u001b[0m \u001b[0;34m'data/results'\u001b[0m\u001b[0;34m,\u001b[0m \u001b[0mto_numeric\u001b[0m \u001b[0;34m=\u001b[0m \u001b[0;32mTrue\u001b[0m\u001b[0;34m)\u001b[0m\u001b[0;34m\u001b[0m\u001b[0;34m\u001b[0m\u001b[0m\n\u001b[0m",
      "\u001b[0;31mNameError\u001b[0m: name 'ExMAS_utils' is not defined"
     ]
    }
   ],
   "source": [
    "results = ExMAS_utils.merge_csvs(None, 'data/results', to_numeric = True)"
   ]
  },
  {
   "cell_type": "code",
   "execution_count": null,
   "metadata": {},
   "outputs": [],
   "source": [
    "results = ExMAS_utils.make_KPIs(results, params = ExMAS_utils.get_config('data/configs/default.json'))"
   ]
  },
  {
   "cell_type": "code",
   "execution_count": null,
   "metadata": {},
   "outputs": [],
   "source": [
    "!pip install https://github.com/RafalKucharskiPK/ExMAS/archive/0.0.1.tar.gz"
   ]
  },
  {
   "cell_type": "code",
   "execution_count": null,
   "metadata": {},
   "outputs": [],
   "source": [
    "import matplotlib.pyplot as plt\n",
    "plt.rcParams['figure.figsize'] = [4, 4]\n",
    "plt.rcParams[\"font.family\"] = \"Helvetica\"\n",
    "plt.style.use('ggplot')"
   ]
  },
  {
   "cell_type": "code",
   "execution_count": null,
   "metadata": {},
   "outputs": [],
   "source": [
    "tp = results[(results.horizon == -1) \n",
    "       & (results.shared_discount == 0.3)\n",
    "       & (results.nP >0)]\n",
    "_ = ExMAS_utils.plot_paper_multi(tp, x = '$Q$', \n",
    "                 ys = ['$\\Delta T_r$', '$\\Delta T_q$', '$\\Delta U_r$'], figname = '1_1.svg', y_label = 'rel. diff.', path = '')"
   ]
  },
  {
   "cell_type": "code",
   "execution_count": null,
   "metadata": {},
   "outputs": [],
   "source": [
    "tp = results[(results.horizon == -1) \n",
    "       & (results.nP ==300)]\n",
    "_ = ExMAS_utils.plot_paper_multi(tp, x = '$\\lambda$', \n",
    "                 ys = ['$\\Delta T_r$', '$\\Delta T_q$', '$\\Delta U_r$'], figname = '1_1.svg', y_label = 'rel. diff.', path = '')"
   ]
  },
  {
   "cell_type": "code",
   "execution_count": null,
   "metadata": {},
   "outputs": [],
   "source": [
    "tp = results[(results.shared_discount == 0.3)\n",
    "       & (results.nP ==300)]\n",
    "_ = ExMAS_utils.plot_paper_multi(tp, x = '$T$', \n",
    "                 ys = ['$\\Delta T_r$', '$\\Delta T_q$', '$\\Delta U_r$'], figname = '1_1.svg', y_label = 'rel. diff.', path = '')"
   ]
  },
  {
   "cell_type": "markdown",
   "metadata": {},
   "source": [
    "---\n",
    "(c) Rafał Kucharski, Delft, 2020"
   ]
  }
 ],
 "metadata": {
  "kernelspec": {
   "display_name": "Python 3",
   "language": "python",
   "name": "python3"
  },
  "language_info": {
   "codemirror_mode": {
    "name": "ipython",
    "version": 3
   },
   "file_extension": ".py",
   "mimetype": "text/x-python",
   "name": "python",
   "nbconvert_exporter": "python",
   "pygments_lexer": "ipython3",
   "version": "3.7.6"
  }
 },
 "nbformat": 4,
 "nbformat_minor": 4
}
